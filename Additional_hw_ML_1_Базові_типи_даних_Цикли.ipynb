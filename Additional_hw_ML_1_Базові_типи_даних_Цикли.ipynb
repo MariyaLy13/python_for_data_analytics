{
 "cells": [
  {
   "cell_type": "markdown",
   "id": "5b1cae7d",
   "metadata": {
    "id": "5b1cae7d"
   },
   "source": [
    "1.Задане значення у змінній var. Перетворіть значення в змінній var на цілочисельне, запишіть в нову змінну `var_int` та виведіть тип нової змінної `var_int`."
   ]
  },
  {
   "cell_type": "code",
   "execution_count": 1,
   "id": "d93f77ed",
   "metadata": {
    "ExecuteTime": {
     "end_time": "2023-06-13T11:52:35.489925Z",
     "start_time": "2023-06-13T11:52:35.487238Z"
    },
    "id": "d93f77ed"
   },
   "outputs": [],
   "source": [
    "var = '1224'"
   ]
  },
  {
   "cell_type": "code",
   "execution_count": 7,
   "id": "5a4afe8f",
   "metadata": {
    "id": "5a4afe8f"
   },
   "outputs": [
    {
     "name": "stdout",
     "output_type": "stream",
     "text": [
      "1224 <class 'int'>\n"
     ]
    },
    {
     "data": {
      "text/plain": [
       "1224"
      ]
     },
     "metadata": {},
     "output_type": "display_data"
    },
    {
     "data": {
      "text/plain": [
       "int"
      ]
     },
     "metadata": {},
     "output_type": "display_data"
    }
   ],
   "source": [
    "var_int = int(var)\n",
    "print(var_int, type(var_int))\n",
    "display(var_int, type(var_int))"
   ]
  },
  {
   "cell_type": "markdown",
   "id": "eb3d19d8",
   "metadata": {
    "ExecuteTime": {
     "end_time": "2023-06-13T13:00:19.611699Z",
     "start_time": "2023-06-13T13:00:19.607737Z"
    },
    "id": "eb3d19d8"
   },
   "source": [
    "2.У Вас є список слів. Виведіть кожне третє слово в списку."
   ]
  },
  {
   "cell_type": "code",
   "execution_count": 9,
   "id": "477f4ced",
   "metadata": {
    "ExecuteTime": {
     "end_time": "2023-06-13T13:00:02.052801Z",
     "start_time": "2023-06-13T13:00:02.048798Z"
    },
    "id": "477f4ced"
   },
   "outputs": [],
   "source": [
    "words = [\"apple\", \"banana\", \"cherry\", \"date\", \"elderberry\", \"fig\", \"grape\", \"honeydew\", \"ice cream\", \"jackfruit\", \"kiwi\", \"lemon\", \"mango\", \"nectarine\", \"orange\", \"pineapple\", \"quince\", \"raspberry\", \"strawberry\", \"tangerine\", \"ugli fruit\", \"vanilla\", \"watermelon\", \"xigua\", \"yam\", \"zucchini\"]"
   ]
  },
  {
   "cell_type": "code",
   "execution_count": 15,
   "id": "1b73ca2f",
   "metadata": {
    "id": "1b73ca2f"
   },
   "outputs": [
    {
     "data": {
      "text/plain": [
       "['cherry',\n",
       " 'fig',\n",
       " 'ice cream',\n",
       " 'lemon',\n",
       " 'orange',\n",
       " 'raspberry',\n",
       " 'ugli fruit',\n",
       " 'xigua']"
      ]
     },
     "metadata": {},
     "output_type": "display_data"
    }
   ],
   "source": [
    "display(words[2::3])"
   ]
  },
  {
   "cell_type": "markdown",
   "id": "394d1dea",
   "metadata": {
    "id": "394d1dea"
   },
   "source": [
    "3.Скільки всього СЛІВ у списку `words`?"
   ]
  },
  {
   "cell_type": "code",
   "execution_count": 35,
   "id": "83c88182",
   "metadata": {
    "id": "83c88182"
   },
   "outputs": [
    {
     "data": {
      "text/plain": [
       "26"
      ]
     },
     "metadata": {},
     "output_type": "display_data"
    },
    {
     "data": {
      "text/plain": [
       "28"
      ]
     },
     "metadata": {},
     "output_type": "display_data"
    }
   ],
   "source": [
    "display(len(words)) # amount of the list's entities\n",
    "sentance = ' '\n",
    "for word in words:\n",
    "    sentance += word + ' '\n",
    "sentance_words = sentance.split()\n",
    "display(len(sentance_words)) # amount of the list's words "
   ]
  },
  {
   "cell_type": "markdown",
   "id": "703d1620",
   "metadata": {
    "ExecuteTime": {
     "end_time": "2023-06-13T13:03:17.414285Z",
     "start_time": "2023-06-13T13:03:17.409285Z"
    },
    "id": "703d1620"
   },
   "source": [
    "4.Скільки всього ЛІТЕР в усіх словах у списку words?"
   ]
  },
  {
   "cell_type": "code",
   "execution_count": 45,
   "id": "c44d04d9",
   "metadata": {
    "id": "c44d04d9"
   },
   "outputs": [
    {
     "data": {
      "text/plain": [
       "180"
      ]
     },
     "metadata": {},
     "output_type": "display_data"
    }
   ],
   "source": [
    "list_of_letters = []\n",
    "for word in words:\n",
    "    for letter in word:\n",
    "            list_of_letters += letter\n",
    "display(len(list_of_letters))"
   ]
  },
  {
   "cell_type": "markdown",
   "id": "4c95f6a3",
   "metadata": {
    "id": "4c95f6a3"
   },
   "source": [
    "5.Скільки разів зустрічається кожна літера в усіх словах списку `words`? Відсортуйте літери в результуючому словнику за алфавітним порядком."
   ]
  },
  {
   "cell_type": "code",
   "execution_count": 59,
   "id": "f6cff6cb",
   "metadata": {
    "id": "f6cff6cb"
   },
   "outputs": [
    {
     "data": {
      "text/plain": [
       "{' ': 2,\n",
       " 'a': 20,\n",
       " 'b': 4,\n",
       " 'c': 8,\n",
       " 'd': 3,\n",
       " 'e': 24,\n",
       " 'f': 3,\n",
       " 'g': 7,\n",
       " 'h': 3,\n",
       " 'i': 15,\n",
       " 'j': 1,\n",
       " 'k': 2,\n",
       " 'l': 8,\n",
       " 'm': 5,\n",
       " 'n': 15,\n",
       " 'o': 5,\n",
       " 'p': 7,\n",
       " 'q': 1,\n",
       " 'r': 19,\n",
       " 's': 2,\n",
       " 't': 7,\n",
       " 'u': 6,\n",
       " 'v': 1,\n",
       " 'w': 4,\n",
       " 'x': 1,\n",
       " 'y': 6,\n",
       " 'z': 1}"
      ]
     },
     "metadata": {},
     "output_type": "display_data"
    }
   ],
   "source": [
    "dictionary_of_letters = {}\n",
    "middle_i = ''\n",
    "sorted_list_of_letters = sorted(list_of_letters)\n",
    "for i in sorted_list_of_letters:\n",
    "    if middle_i != i:\n",
    "        middle_i = i\n",
    "        i_count = sorted_list_of_letters.count(i)\n",
    "        dictionary_of_letters[i] = i_count\n",
    "display(dictionary_of_letters)"
   ]
  },
  {
   "cell_type": "markdown",
   "id": "94d9f1cc",
   "metadata": {
    "id": "94d9f1cc"
   },
   "source": [
    "Очікуваний результат:\n",
    "```\n",
    "{' ': 2,\n",
    " 'a': 20,\n",
    " 'b': 4,\n",
    " 'c': 8,\n",
    " 'd': 3,\n",
    " 'e': 24,\n",
    " 'f': 3,\n",
    " 'g': 7,\n",
    " 'h': 3,\n",
    " 'i': 15,\n",
    " 'j': 1,\n",
    " 'k': 2,\n",
    " 'l': 8,\n",
    " 'm': 5,\n",
    " 'n': 15,\n",
    " 'o': 5,\n",
    " 'p': 7,\n",
    " 'q': 1,\n",
    " 'r': 19,\n",
    " 's': 2,\n",
    " 't': 7,\n",
    " 'u': 6,\n",
    " 'v': 1,\n",
    " 'w': 4,\n",
    " 'x': 1,\n",
    " 'y': 6,\n",
    " 'z': 1}\n",
    " ```"
   ]
  },
  {
   "cell_type": "markdown",
   "id": "c93ac384",
   "metadata": {
    "id": "c93ac384"
   },
   "source": [
    "6.Використовуючи результат виконання попереднього завдання, виведіть на екран ту літеру, яка зустрічається найчастіше і скільки разів вона зустрічається. Це треба зробити програмно, а не просто подививщись на дані :)"
   ]
  },
  {
   "cell_type": "code",
   "execution_count": 67,
   "id": "9ddfb851",
   "metadata": {
    "id": "9ddfb851"
   },
   "outputs": [
    {
     "name": "stdout",
     "output_type": "stream",
     "text": [
      "('e', 24)\n"
     ]
    }
   ],
   "source": [
    "the_biggest = 0\n",
    "key_show = ()\n",
    "for key, value in dictionary_of_letters.items():\n",
    "    if value > the_biggest:\n",
    "        the_biggest = value\n",
    "        key_show = (key,value)\n",
    "    else:\n",
    "        continue\n",
    "print(key_show)"
   ]
  },
  {
   "cell_type": "markdown",
   "id": "f40adbed",
   "metadata": {
    "id": "f40adbed"
   },
   "source": [
    "7.Для кожного елементу списку виведіть тип елемену. Якщо тип обʼєкту - int (тільки цей тип безпосередньо!), виведіть результат піднесення цього числа до степеню 5."
   ]
  },
  {
   "cell_type": "code",
   "execution_count": 69,
   "id": "f92249ac",
   "metadata": {
    "ExecuteTime": {
     "end_time": "2023-06-13T12:53:04.365735Z",
     "start_time": "2023-06-13T12:53:04.362441Z"
    },
    "id": "f92249ac"
   },
   "outputs": [],
   "source": [
    "elements = [12, 'type', 'Bob', True, 'False', 1.414, 1444.333, 123/33, 5]"
   ]
  },
  {
   "cell_type": "code",
   "execution_count": 79,
   "id": "96b72186",
   "metadata": {
    "id": "96b72186"
   },
   "outputs": [
    {
     "name": "stdout",
     "output_type": "stream",
     "text": [
      "The type of element  12  is <class 'int'>\n",
      "This is a number! Let't take it to power 5! The result is:  248832\n",
      "The type of element  type  is <class 'str'>\n",
      "The type of element  Bob  is <class 'str'>\n",
      "The type of element  True  is <class 'bool'>\n",
      "The type of element  False  is <class 'str'>\n",
      "The type of element  1.414  is <class 'float'>\n",
      "The type of element  1444.333  is <class 'float'>\n",
      "The type of element  3.727272727272727  is <class 'float'>\n",
      "The type of element  5  is <class 'int'>\n",
      "This is a number! Let't take it to power 5! The result is:  3125\n"
     ]
    }
   ],
   "source": [
    "for i in elements:\n",
    "    print('The type of element ', i, ' is', type(i))\n",
    "    if type(i) == int:\n",
    "        print(\"This is a number! Let't take it to power 5! The result is: \", i**5)"
   ]
  },
  {
   "cell_type": "markdown",
   "id": "cf2247c7",
   "metadata": {
    "ExecuteTime": {
     "end_time": "2023-06-13T12:55:17.795510Z",
     "start_time": "2023-06-13T12:55:17.787158Z"
    },
    "id": "cf2247c7"
   },
   "source": [
    "Приклад очікуваного результату (текстові коментарі і форматування можуть бути іншими):\n",
    "```\n",
    "    The type of element 12 is <class 'int'>\n",
    "    This is a number! Let't take it to power 5! The result is: 248832\n",
    "    The type of element type is <class 'str'>\n",
    "    The type of element Bob is <class 'str'>\n",
    "    The type of element True is <class 'bool'>\n",
    "    The type of element False is <class 'str'>\n",
    "    The type of element 1.414 is <class 'float'>\n",
    "    The type of element 1444.333 is <class 'float'>\n",
    "    The type of element 3.727272727272727 is <class 'float'>\n",
    "    The type of element 5 is <class 'int'>\n",
    "    This is a number! Let't take it to power 5! The result is: 3125\n",
    "```"
   ]
  },
  {
   "cell_type": "markdown",
   "id": "76a0bef2",
   "metadata": {
    "id": "76a0bef2"
   },
   "source": [
    "8.Створіть програму, яка:\n",
    "\n",
    "- Для визначених значень `name` та `age` друкує повідомлення \"Привіт, [Ім’я] ! Вам [Вік] років.\".\n",
    "- Обчислює, скільки років залишилося користувачеві до 100 років, і друкує повідомлення з цією інформацією: \"До 100 років Вам лишилось [Число] років.\"  \n",
    "\n",
    "Запустіть програму для набору користувачів нижче."
   ]
  },
  {
   "cell_type": "code",
   "execution_count": 81,
   "id": "0092963a",
   "metadata": {
    "ExecuteTime": {
     "end_time": "2023-06-13T12:30:11.462941Z",
     "start_time": "2023-06-13T12:30:11.459673Z"
    },
    "id": "0092963a"
   },
   "outputs": [],
   "source": [
    "users = [\n",
    "    ['Karl', 30],\n",
    "    ['Klara', 15],\n",
    "    ['Alexis', 56],\n",
    "    ['Charles', 99]\n",
    "]"
   ]
  },
  {
   "cell_type": "code",
   "execution_count": 87,
   "id": "8d6d820e",
   "metadata": {
    "id": "8d6d820e"
   },
   "outputs": [
    {
     "name": "stdout",
     "output_type": "stream",
     "text": [
      "Привіт, Karl! Вам 30 років.\n",
      "До 100 років Вам лишилось 70 років.\n",
      "Привіт, Klara! Вам 15 років.\n",
      "До 100 років Вам лишилось 85 років.\n",
      "Привіт, Alexis! Вам 56 років.\n",
      "До 100 років Вам лишилось 44 років.\n",
      "Привіт, Charles! Вам 99 років.\n",
      "До 100 років Вам лишилось 1 років.\n"
     ]
    }
   ],
   "source": [
    "for user in users:\n",
    "    print('Привіт, ' + user[0] + '! Вам ' + str(user[-1]) + ' років.')\n",
    "    print('До 100 років Вам лишилось ' + str(100 - user[-1]) + ' років.')"
   ]
  },
  {
   "cell_type": "markdown",
   "id": "45fedbc4",
   "metadata": {
    "id": "45fedbc4"
   },
   "source": [
    "9.Напишть фрагмент коду, який перевіряє, чи слово є паліндромом. Слово (або фраза) є паліндромом, якщо при читанні його зворотньому напрямі буде таке саме слово.\n",
    "Наприклад, слово \"radar\" є паліндромом, але \"radix\" не є паліндромом. Код в кінці має видавати результат True або False.  \n",
    "Код має звертати увагу лише на символи-літери. Регістр літер не має значення, а знаки пунктуації (кома, крапка) та `-+=/\\`` мають бути вилучені з рядка перед перевіркою. Так само, пробіли не впливають на визначення,чи слово є палендромом. Мають значення лише літери.\n",
    "Тобто рядки \"A mam, a\" та \"A mamA\" є паліндромами, а \"AmamU\" - ні.\n",
    "\n",
    "Опціонально ви можете розмістити код на перевірку чи є слово паліндромом у фукнцію.\n",
    "Запустіть свій код для рядків з набору нижче і виведіть результат перевірки на екран для кожного рядка."
   ]
  },
  {
   "cell_type": "code",
   "execution_count": 89,
   "id": "4cca3eed",
   "metadata": {
    "ExecuteTime": {
     "end_time": "2023-06-13T12:24:02.288183Z",
     "start_time": "2023-06-13T12:24:02.285245Z"
    },
    "id": "4cca3eed"
   },
   "outputs": [],
   "source": [
    "phrases_to_check = [\n",
    "    'radar',\n",
    "    'radix',\n",
    "    'A mam, a',\n",
    "    'A mamA',\n",
    "    'Sit on a potato pan Otis',\n",
    "    'Taco cat.',\n",
    "    'Taco cat',\n",
    "    'Tornado',\n",
    "    \"Go hang a salami, I'm a lasagna hog.\"\n",
    "]"
   ]
  },
  {
   "cell_type": "code",
   "execution_count": 119,
   "id": "becbec3c",
   "metadata": {
    "id": "becbec3c"
   },
   "outputs": [
    {
     "name": "stdout",
     "output_type": "stream",
     "text": [
      "radar  -  True\n",
      "radix  -  False\n",
      "A mam, a  -  True\n",
      "A mamA  -  True\n",
      "Sit on a potato pan Otis  -  True\n",
      "Taco cat.  -  True\n",
      "Taco cat  -  True\n",
      "Tornado  -  False\n",
      "Go hang a salami, I'm a lasagna hog.  -  True\n"
     ]
    }
   ],
   "source": [
    "box_letter_1 = []\n",
    "box_letter_2 = []\n",
    "for phrase in phrases_to_check:\n",
    "    phrase_2 = phrase.lower()\n",
    "    for ph in phrase_2:\n",
    "        if ph.isalpha() == True:\n",
    "            box_letter_1.append(ph)\n",
    "            box_letter_2.insert(0,ph)\n",
    "        else:\n",
    "            continue\n",
    "    print(phrase, ' - ', box_letter_1 == box_letter_2)\n",
    "    box_letter_1 = []\n",
    "    box_letter_2 = []"
   ]
  },
  {
   "cell_type": "markdown",
   "id": "e51c421d",
   "metadata": {
    "id": "e51c421d"
   },
   "source": [
    "Очкувані результати обчислень:\n",
    "```\n",
    "    radar - True\n",
    "    radix - False\n",
    "    A mam, a - True\n",
    "    A mamA - True\n",
    "    Sit on a potato pan Otis - True\n",
    "    Taco cat. - True\n",
    "    Taco cat - True\n",
    "    Tornado - False\n",
    "    Go hang a salami, I'm a lasagna hog. - True\n",
    "```"
   ]
  }
 ],
 "metadata": {
  "colab": {
   "provenance": []
  },
  "kernelspec": {
   "display_name": "Python 3 (ipykernel)",
   "language": "python",
   "name": "python3"
  },
  "language_info": {
   "codemirror_mode": {
    "name": "ipython",
    "version": 3
   },
   "file_extension": ".py",
   "mimetype": "text/x-python",
   "name": "python",
   "nbconvert_exporter": "python",
   "pygments_lexer": "ipython3",
   "version": "3.12.4"
  },
  "toc": {
   "base_numbering": 1,
   "nav_menu": {},
   "number_sections": true,
   "sideBar": true,
   "skip_h1_title": false,
   "title_cell": "Table of Contents",
   "title_sidebar": "Contents",
   "toc_cell": false,
   "toc_position": {},
   "toc_section_display": true,
   "toc_window_display": false
  }
 },
 "nbformat": 4,
 "nbformat_minor": 5
}
