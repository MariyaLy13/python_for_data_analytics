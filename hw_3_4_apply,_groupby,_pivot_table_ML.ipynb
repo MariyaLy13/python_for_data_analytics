{
 "cells": [
  {
   "cell_type": "markdown",
   "metadata": {
    "id": "LwNpAFw_eTF3"
   },
   "source": [
    "#Домашнє завдання до тем apply(), groupby(), pivot_table()"
   ]
  },
  {
   "cell_type": "markdown",
   "metadata": {
    "id": "vP2PEJyq8Yrj"
   },
   "source": [
    "В цьому домашньому завданні продовжуємо працювати з набором даних `supermarket_sales.csv`."
   ]
  },
  {
   "cell_type": "markdown",
   "metadata": {
    "id": "dh9lfpDb8gBL"
   },
   "source": [
    "0. Імпортуйте бібліотеку pandas та зчитайте дані у змінну `df` типу `pandas.DataFrame`."
   ]
  },
  {
   "cell_type": "code",
   "execution_count": 7,
   "metadata": {
    "id": "xBI9gJMK8qnl"
   },
   "outputs": [],
   "source": [
    "import pandas as pd\n",
    "import os\n",
    "data_path = '../../data/supermarket_sales_ML.csv'\n",
    "df = pd.read_csv(data_path)"
   ]
  },
  {
   "cell_type": "markdown",
   "metadata": {
    "id": "28638363"
   },
   "source": [
    "1. Дослідимо, який філіал супермаркету ('Branch') є найприбутковішим. Для цього знайдіть сумарний прибуток за кожним філіалом і виявіть, який філіал має найвищий."
   ]
  },
  {
   "cell_type": "code",
   "execution_count": 11,
   "metadata": {
    "ExecuteTime": {
     "end_time": "2022-11-01T17:27:42.023877Z",
     "start_time": "2022-11-01T17:27:42.020277Z"
    },
    "id": "916d731d"
   },
   "outputs": [
    {
     "data": {
      "text/plain": [
       "Branch\n",
       "A    5057.1605\n",
       "B    5057.0320\n",
       "C    5265.1765\n",
       "Name: gross income, dtype: float64"
      ]
     },
     "execution_count": 11,
     "metadata": {},
     "output_type": "execute_result"
    }
   ],
   "source": [
    "df.groupby('Branch')['gross income'].agg('sum')"
   ]
  },
  {
   "cell_type": "markdown",
   "metadata": {
    "id": "2qL_OddUCZKK"
   },
   "source": [
    "2. В якому місті знайходиться філіал з найвищим прибутком? Може в тому місці нам розмітисти ще один магазин.  \n",
    "Знайдіть відповідь за допомогою функціоналу Pandas."
   ]
  },
  {
   "cell_type": "code",
   "execution_count": 31,
   "metadata": {
    "id": "bBJUc1dWCwdi"
   },
   "outputs": [
    {
     "data": {
      "text/html": [
       "<div>\n",
       "<style scoped>\n",
       "    .dataframe tbody tr th:only-of-type {\n",
       "        vertical-align: middle;\n",
       "    }\n",
       "\n",
       "    .dataframe tbody tr th {\n",
       "        vertical-align: top;\n",
       "    }\n",
       "\n",
       "    .dataframe thead th {\n",
       "        text-align: right;\n",
       "    }\n",
       "</style>\n",
       "<table border=\"1\" class=\"dataframe\">\n",
       "  <thead>\n",
       "    <tr style=\"text-align: right;\">\n",
       "      <th></th>\n",
       "      <th>count</th>\n",
       "      <th>unique</th>\n",
       "      <th>top</th>\n",
       "      <th>freq</th>\n",
       "    </tr>\n",
       "    <tr>\n",
       "      <th>Branch</th>\n",
       "      <th></th>\n",
       "      <th></th>\n",
       "      <th></th>\n",
       "      <th></th>\n",
       "    </tr>\n",
       "  </thead>\n",
       "  <tbody>\n",
       "    <tr>\n",
       "      <th>A</th>\n",
       "      <td>340</td>\n",
       "      <td>1</td>\n",
       "      <td>Yangon</td>\n",
       "      <td>340</td>\n",
       "    </tr>\n",
       "    <tr>\n",
       "      <th>B</th>\n",
       "      <td>332</td>\n",
       "      <td>1</td>\n",
       "      <td>Mandalay</td>\n",
       "      <td>332</td>\n",
       "    </tr>\n",
       "    <tr>\n",
       "      <th>C</th>\n",
       "      <td>328</td>\n",
       "      <td>1</td>\n",
       "      <td>Naypyitaw</td>\n",
       "      <td>328</td>\n",
       "    </tr>\n",
       "  </tbody>\n",
       "</table>\n",
       "</div>"
      ],
      "text/plain": [
       "       count unique        top freq\n",
       "Branch                             \n",
       "A        340      1     Yangon  340\n",
       "B        332      1   Mandalay  332\n",
       "C        328      1  Naypyitaw  328"
      ]
     },
     "execution_count": 31,
     "metadata": {},
     "output_type": "execute_result"
    }
   ],
   "source": [
    "df.groupby('Branch')['City'].describe()"
   ]
  },
  {
   "cell_type": "markdown",
   "metadata": {},
   "source": [
    "# Only one branch is shown in each city.\n",
    "Branch 'C' with the highest gross income (5265.1765) is located in the city 'Naypyitaw'."
   ]
  },
  {
   "cell_type": "markdown",
   "metadata": {
    "id": "6dec795f"
   },
   "source": [
    "3.1. Створіть зводну таблицю, яка покаже, скільки покупок (інвойсів) було зроблено в кожній з філій (`Branch`) за різними категоріями товарів. Запишіть таблицю в змінну `invoices_by_category` і виведіть змінну на екран.\n",
    "Ця таблиця допоможе проаналізувати, в якій філії купують найбільше товарів кожної з категорій."
   ]
  },
  {
   "cell_type": "code",
   "execution_count": 148,
   "metadata": {
    "id": "N7TfUBf4ZrkX"
   },
   "outputs": [],
   "source": [
    "invoices_by_category = pd.pivot_table(df, index='Branch', columns='Product line', aggfunc='size')"
   ]
  },
  {
   "cell_type": "code",
   "execution_count": 150,
   "metadata": {},
   "outputs": [
    {
     "data": {
      "text/html": [
       "<div>\n",
       "<style scoped>\n",
       "    .dataframe tbody tr th:only-of-type {\n",
       "        vertical-align: middle;\n",
       "    }\n",
       "\n",
       "    .dataframe tbody tr th {\n",
       "        vertical-align: top;\n",
       "    }\n",
       "\n",
       "    .dataframe thead th {\n",
       "        text-align: right;\n",
       "    }\n",
       "</style>\n",
       "<table border=\"1\" class=\"dataframe\">\n",
       "  <thead>\n",
       "    <tr style=\"text-align: right;\">\n",
       "      <th>Product line</th>\n",
       "      <th>Electronic accessories</th>\n",
       "      <th>Fashion accessories</th>\n",
       "      <th>Food and beverages</th>\n",
       "      <th>Health and beauty</th>\n",
       "      <th>Home and lifestyle</th>\n",
       "      <th>Sports and travel</th>\n",
       "    </tr>\n",
       "    <tr>\n",
       "      <th>Branch</th>\n",
       "      <th></th>\n",
       "      <th></th>\n",
       "      <th></th>\n",
       "      <th></th>\n",
       "      <th></th>\n",
       "      <th></th>\n",
       "    </tr>\n",
       "  </thead>\n",
       "  <tbody>\n",
       "    <tr>\n",
       "      <th>A</th>\n",
       "      <td>60</td>\n",
       "      <td>51</td>\n",
       "      <td>58</td>\n",
       "      <td>47</td>\n",
       "      <td>65</td>\n",
       "      <td>59</td>\n",
       "    </tr>\n",
       "    <tr>\n",
       "      <th>B</th>\n",
       "      <td>55</td>\n",
       "      <td>62</td>\n",
       "      <td>50</td>\n",
       "      <td>53</td>\n",
       "      <td>50</td>\n",
       "      <td>62</td>\n",
       "    </tr>\n",
       "    <tr>\n",
       "      <th>C</th>\n",
       "      <td>55</td>\n",
       "      <td>65</td>\n",
       "      <td>66</td>\n",
       "      <td>52</td>\n",
       "      <td>45</td>\n",
       "      <td>45</td>\n",
       "    </tr>\n",
       "  </tbody>\n",
       "</table>\n",
       "</div>"
      ],
      "text/plain": [
       "Product line  Electronic accessories  Fashion accessories  Food and beverages  \\\n",
       "Branch                                                                          \n",
       "A                                 60                   51                  58   \n",
       "B                                 55                   62                  50   \n",
       "C                                 55                   65                  66   \n",
       "\n",
       "Product line  Health and beauty  Home and lifestyle  Sports and travel  \n",
       "Branch                                                                  \n",
       "A                            47                  65                 59  \n",
       "B                            53                  50                 62  \n",
       "C                            52                  45                 45  "
      ]
     },
     "execution_count": 150,
     "metadata": {},
     "output_type": "execute_result"
    }
   ],
   "source": [
    "invoices_by_category"
   ]
  },
  {
   "cell_type": "markdown",
   "metadata": {
    "ExecuteTime": {
     "end_time": "2022-11-01T16:50:46.961201Z",
     "start_time": "2022-11-01T16:50:46.955894Z"
    },
    "id": "f5bbfa34"
   },
   "source": [
    "Очікуваний результат:"
   ]
  },
  {
   "cell_type": "markdown",
   "metadata": {
    "id": "34b9bcdc"
   },
   "source": [
    "![](https://drive.google.com/uc?export=view&id=1rueAdko6S3UxIHGtojetTxlES-EyM6Yb)"
   ]
  },
  {
   "cell_type": "markdown",
   "metadata": {
    "id": "woygDEA0OSwJ"
   },
   "source": [
    "3.2. Викристовуючи змінну `invoices_by_category` дайте відповідь програмно (тобто значення треба не просто знайти очима, а вивести за допомогою коду), в якому філіалі магазину (`Branch`) найбільше інвойсів із покупкою товарів категорії \"Електронні аксесуари\" (`Electronic accessories`)?\n"
   ]
  },
  {
   "cell_type": "code",
   "execution_count": 142,
   "metadata": {
    "id": "B5x8kTE-Qcq8"
   },
   "outputs": [],
   "source": [
    "condition_1 = invoices_by_category['Electronic accessories'] == invoices_by_category['Electronic accessories'].max()"
   ]
  },
  {
   "cell_type": "code",
   "execution_count": 144,
   "metadata": {},
   "outputs": [
    {
     "data": {
      "text/plain": [
       "Branch\n",
       "A    60\n",
       "Name: Electronic accessories, dtype: int64"
      ]
     },
     "execution_count": 144,
     "metadata": {},
     "output_type": "execute_result"
    }
   ],
   "source": [
    "invoices_by_category[condition_1]['Electronic accessories']"
   ]
  },
  {
   "cell_type": "markdown",
   "metadata": {
    "ExecuteTime": {
     "end_time": "2022-11-01T17:56:02.981755Z",
     "start_time": "2022-11-01T17:56:02.977086Z"
    },
    "id": "d005a2b8"
   },
   "source": [
    "4-6. **Творче завдання на розвиток аналітичного мислення**\n",
    "\n",
    "Крок 1. Сформулюйте ТРИ питання (гіпотези) до наявних даних, які допомогли б вам зрозуміти, які користувачі що, де та коли найбільше/найменше купують, аби дати на основі цих гіпотез рекомендації бізнесу. Звісно питання мають бути не тими, на які ми вже відповіли в завданнях модулю.\n",
    "\n",
    "Крок 2. Знайдіть відповіді на свої питання з допомогою функціоналу pandas.\n",
    "\n",
    "Крок 3. Напишіть, як відповідь на це питання може бути використана для прийняття бізнес рішень.   \n",
    "   \n",
    " Питання можуть бути будь-якої складності, але їх має бути 3. Кожне питання оцінюється як 1 завдання. Без виконання цього завдання ДЗ не приймається. Якщо є питання щодо виконання - пишіть у чат 🙌\n"
   ]
  },
  {
   "cell_type": "raw",
   "metadata": {
    "ExecuteTime": {
     "end_time": "2022-11-01T17:56:02.981755Z",
     "start_time": "2022-11-01T17:56:02.977086Z"
    },
    "id": "d005a2b8"
   },
   "source": [
    "4-6. **Мої гіпотези**\n",
    "\n",
    "Гіпотеза 1. Do Branch Member is at least as much satisfied as Normal customer?\n",
    "\n",
    "Гіпотеза 2. Is a relation between a Member satisfuction connected to level of gross income?\n",
    "\n",
    "Гіпотеза 3. Is hour is matter?\n"
   ]
  },
  {
   "cell_type": "markdown",
   "metadata": {
    "ExecuteTime": {
     "end_time": "2022-11-01T17:56:02.981755Z",
     "start_time": "2022-11-01T17:56:02.977086Z"
    },
    "id": "d005a2b8"
   },
   "source": [
    "4-6. **Гіпотеза 1**"
   ]
  },
  {
   "cell_type": "code",
   "execution_count": 511,
   "metadata": {
    "id": "cM3cApWSZuRX"
   },
   "outputs": [],
   "source": [
    "invoices_by_customer_type_rating = pd.pivot_table(df, index=('Branch','Product line'), columns='Customer type', values= 'Rating' ,aggfunc='mean').round(1).reset_index()"
   ]
  },
  {
   "cell_type": "code",
   "execution_count": 543,
   "metadata": {
    "id": "cM3cApWSZuRX"
   },
   "outputs": [
    {
     "data": {
      "text/html": [
       "<div>\n",
       "<style scoped>\n",
       "    .dataframe tbody tr th:only-of-type {\n",
       "        vertical-align: middle;\n",
       "    }\n",
       "\n",
       "    .dataframe tbody tr th {\n",
       "        vertical-align: top;\n",
       "    }\n",
       "\n",
       "    .dataframe thead th {\n",
       "        text-align: right;\n",
       "    }\n",
       "</style>\n",
       "<table border=\"1\" class=\"dataframe\">\n",
       "  <thead>\n",
       "    <tr style=\"text-align: right;\">\n",
       "      <th>Customer type</th>\n",
       "      <th>Branch</th>\n",
       "      <th>Product line</th>\n",
       "      <th>Member</th>\n",
       "      <th>Normal</th>\n",
       "      <th>Member Normal rating</th>\n",
       "    </tr>\n",
       "  </thead>\n",
       "  <tbody>\n",
       "    <tr>\n",
       "      <th>1</th>\n",
       "      <td>A</td>\n",
       "      <td>Fashion accessories</td>\n",
       "      <td>6.6</td>\n",
       "      <td>7.1</td>\n",
       "      <td>-0.5</td>\n",
       "    </tr>\n",
       "    <tr>\n",
       "      <th>2</th>\n",
       "      <td>A</td>\n",
       "      <td>Food and beverages</td>\n",
       "      <td>7.0</td>\n",
       "      <td>7.5</td>\n",
       "      <td>-0.5</td>\n",
       "    </tr>\n",
       "    <tr>\n",
       "      <th>7</th>\n",
       "      <td>B</td>\n",
       "      <td>Fashion accessories</td>\n",
       "      <td>6.5</td>\n",
       "      <td>7.0</td>\n",
       "      <td>-0.5</td>\n",
       "    </tr>\n",
       "    <tr>\n",
       "      <th>11</th>\n",
       "      <td>B</td>\n",
       "      <td>Sports and travel</td>\n",
       "      <td>6.2</td>\n",
       "      <td>6.8</td>\n",
       "      <td>-0.6</td>\n",
       "    </tr>\n",
       "    <tr>\n",
       "      <th>12</th>\n",
       "      <td>C</td>\n",
       "      <td>Electronic accessories</td>\n",
       "      <td>6.4</td>\n",
       "      <td>6.9</td>\n",
       "      <td>-0.5</td>\n",
       "    </tr>\n",
       "  </tbody>\n",
       "</table>\n",
       "</div>"
      ],
      "text/plain": [
       "Customer type Branch            Product line  Member  Normal  \\\n",
       "1                  A     Fashion accessories     6.6     7.1   \n",
       "2                  A      Food and beverages     7.0     7.5   \n",
       "7                  B     Fashion accessories     6.5     7.0   \n",
       "11                 B       Sports and travel     6.2     6.8   \n",
       "12                 C  Electronic accessories     6.4     6.9   \n",
       "\n",
       "Customer type  Member Normal rating  \n",
       "1                              -0.5  \n",
       "2                              -0.5  \n",
       "7                              -0.5  \n",
       "11                             -0.6  \n",
       "12                             -0.5  "
      ]
     },
     "execution_count": 543,
     "metadata": {},
     "output_type": "execute_result"
    }
   ],
   "source": [
    "invoices_by_customer_type_rating['Member Normal rating'] = invoices_by_customer_type_rating.Member - invoices_by_customer_type_rating.Normal\n",
    "invoices_by_customer_type_rating[invoices_by_customer_type_rating['Member Normal rating'] < -0.3]"
   ]
  },
  {
   "cell_type": "markdown",
   "metadata": {
    "ExecuteTime": {
     "end_time": "2022-11-01T17:56:02.981755Z",
     "start_time": "2022-11-01T17:56:02.977086Z"
    },
    "id": "d005a2b8"
   },
   "source": [
    "**Висновок** For the above Branches and Products lines Member customers are satisfied less than Normal customers. It makes sense to check this."
   ]
  },
  {
   "cell_type": "markdown",
   "metadata": {
    "ExecuteTime": {
     "end_time": "2022-11-01T17:56:02.981755Z",
     "start_time": "2022-11-01T17:56:02.977086Z"
    },
    "id": "d005a2b8"
   },
   "source": [
    "4-6. **Гіпотеза 2**"
   ]
  },
  {
   "cell_type": "code",
   "execution_count": 729,
   "metadata": {
    "id": "cM3cApWSZuRX"
   },
   "outputs": [],
   "source": [
    "inv_by_cat_branch_price = pd.pivot_table(df, index=['Product line','Branch'], columns='Customer type', values='Unit price',\n",
    "                                                       aggfunc='mean').round(2).reset_index()\n",
    "#inv_by_cat_branch_price"
   ]
  },
  {
   "cell_type": "code",
   "execution_count": 731,
   "metadata": {
    "id": "cM3cApWSZuRX"
   },
   "outputs": [],
   "source": [
    "inv_by_cat_branch_quantity = pd.pivot_table(df, index=['Product line','Branch'], columns='Customer type', values='Quantity',\n",
    "                                                       aggfunc='sum').round(2).reset_index()\n",
    "#inv_by_cat_branch_quantity"
   ]
  },
  {
   "cell_type": "code",
   "execution_count": 801,
   "metadata": {
    "id": "cM3cApWSZuRX"
   },
   "outputs": [],
   "source": [
    "inv_by_cat_branch_income = pd.pivot_table(df, index=['Product line','Branch'], columns='Customer type', values='gross income',\n",
    "                                                       aggfunc='sum').round(2).reset_index()\n",
    "#inv_by_cat_branch_income"
   ]
  },
  {
   "cell_type": "code",
   "execution_count": 833,
   "metadata": {
    "id": "cM3cApWSZuRX"
   },
   "outputs": [
    {
     "data": {
      "text/html": [
       "<div>\n",
       "<style scoped>\n",
       "    .dataframe tbody tr th:only-of-type {\n",
       "        vertical-align: middle;\n",
       "    }\n",
       "\n",
       "    .dataframe tbody tr th {\n",
       "        vertical-align: top;\n",
       "    }\n",
       "\n",
       "    .dataframe thead th {\n",
       "        text-align: right;\n",
       "    }\n",
       "</style>\n",
       "<table border=\"1\" class=\"dataframe\">\n",
       "  <thead>\n",
       "    <tr style=\"text-align: right;\">\n",
       "      <th>Customer type</th>\n",
       "      <th>Product_line</th>\n",
       "      <th>Branch</th>\n",
       "      <th>Member_price</th>\n",
       "      <th>Normal_price</th>\n",
       "      <th>Member_quantity</th>\n",
       "      <th>Normal_quantity</th>\n",
       "      <th>Member_income</th>\n",
       "      <th>Normal_income</th>\n",
       "      <th>Member_Normal_dif</th>\n",
       "    </tr>\n",
       "  </thead>\n",
       "  <tbody>\n",
       "    <tr>\n",
       "      <th>1</th>\n",
       "      <td>Electronic accessories</td>\n",
       "      <td>B</td>\n",
       "      <td>48.47</td>\n",
       "      <td>51.19</td>\n",
       "      <td>147</td>\n",
       "      <td>169</td>\n",
       "      <td>353.56</td>\n",
       "      <td>458.41</td>\n",
       "      <td>-104.85</td>\n",
       "    </tr>\n",
       "    <tr>\n",
       "      <th>2</th>\n",
       "      <td>Electronic accessories</td>\n",
       "      <td>C</td>\n",
       "      <td>64.73</td>\n",
       "      <td>50.71</td>\n",
       "      <td>120</td>\n",
       "      <td>213</td>\n",
       "      <td>377.52</td>\n",
       "      <td>525.76</td>\n",
       "      <td>-148.24</td>\n",
       "    </tr>\n",
       "    <tr>\n",
       "      <th>3</th>\n",
       "      <td>Fashion accessories</td>\n",
       "      <td>A</td>\n",
       "      <td>48.43</td>\n",
       "      <td>62.92</td>\n",
       "      <td>133</td>\n",
       "      <td>130</td>\n",
       "      <td>330.60</td>\n",
       "      <td>447.14</td>\n",
       "      <td>-116.54</td>\n",
       "    </tr>\n",
       "    <tr>\n",
       "      <th>4</th>\n",
       "      <td>Fashion accessories</td>\n",
       "      <td>B</td>\n",
       "      <td>52.18</td>\n",
       "      <td>57.69</td>\n",
       "      <td>143</td>\n",
       "      <td>154</td>\n",
       "      <td>349.50</td>\n",
       "      <td>432.08</td>\n",
       "      <td>-82.58</td>\n",
       "    </tr>\n",
       "    <tr>\n",
       "      <th>13</th>\n",
       "      <td>Home and lifestyle</td>\n",
       "      <td>B</td>\n",
       "      <td>53.84</td>\n",
       "      <td>56.72</td>\n",
       "      <td>137</td>\n",
       "      <td>158</td>\n",
       "      <td>369.97</td>\n",
       "      <td>465.71</td>\n",
       "      <td>-95.74</td>\n",
       "    </tr>\n",
       "  </tbody>\n",
       "</table>\n",
       "</div>"
      ],
      "text/plain": [
       "Customer type            Product_line Branch  Member_price  Normal_price  \\\n",
       "1              Electronic accessories      B         48.47         51.19   \n",
       "2              Electronic accessories      C         64.73         50.71   \n",
       "3                 Fashion accessories      A         48.43         62.92   \n",
       "4                 Fashion accessories      B         52.18         57.69   \n",
       "13                 Home and lifestyle      B         53.84         56.72   \n",
       "\n",
       "Customer type  Member_quantity  Normal_quantity  Member_income  Normal_income  \\\n",
       "1                          147              169         353.56         458.41   \n",
       "2                          120              213         377.52         525.76   \n",
       "3                          133              130         330.60         447.14   \n",
       "4                          143              154         349.50         432.08   \n",
       "13                         137              158         369.97         465.71   \n",
       "\n",
       "Customer type  Member_Normal_dif  \n",
       "1                        -104.85  \n",
       "2                        -148.24  \n",
       "3                        -116.54  \n",
       "4                         -82.58  \n",
       "13                        -95.74  "
      ]
     },
     "execution_count": 833,
     "metadata": {},
     "output_type": "execute_result"
    }
   ],
   "source": [
    "inv_by_cat = inv_by_cat_branch_price.join(inv_by_cat_branch_quantity, lsuffix='_price', rsuffix='_quantity').drop(\n",
    "    ['Product line_quantity','Branch_quantity'],axis=1)\n",
    "\n",
    "inv_by_cat_total = pd.concat([inv_by_cat, inv_by_cat_branch_income], axis=1).drop(['Product line', 'Branch'], axis=1).rename(\n",
    "    {\n",
    "        'Product line_price': 'Product_line',\n",
    "        'Branch_price': 'Branch',\n",
    "        'Member': 'Member_income',\n",
    "        'Normal': 'Normal_income'\n",
    "    }, axis=1)\n",
    "\n",
    "inv_by_cat_total['Member_Normal_dif'] = inv_by_cat_total.Member_income - inv_by_cat_total.Normal_income\n",
    "inv_by_cat_total[inv_by_cat_total.Member_Normal_dif < -50]"
   ]
  },
  {
   "cell_type": "markdown",
   "metadata": {
    "ExecuteTime": {
     "end_time": "2022-11-01T17:56:02.981755Z",
     "start_time": "2022-11-01T17:56:02.977086Z"
    },
    "id": "d005a2b8"
   },
   "source": [
    "**Висновок** For the above Branches and Products lines the Gross income from Member customers purchases are much less than from Normal customers. It makes sense to check this.\n",
    "The intresting point that Electronic accessories in 'C', same Fashion accessories in 'A' and 'B' are the same combination the first and the second hypothethis. It could be that lower 'Gross income' from Customer type Member could be caused by the Member policy for those Product lines in those Branches."
   ]
  },
  {
   "cell_type": "code",
   "execution_count": 835,
   "metadata": {
    "id": "cM3cApWSZuRX"
   },
   "outputs": [],
   "source": [
    "#inv_by_cat_branch_price.groupby('Branch')['gross income'].agg('sum')\n",
    "#inv_by_cat_branch_price.groupby(['Product line','Customer type','Branch'])[['Quantity']].max()\n",
    "#inv_by_cat_branch_price.loc[('Electronic accessories'),(('Unit price','Quantity','gross income'),'C')].round(2)"
   ]
  },
  {
   "cell_type": "markdown",
   "metadata": {
    "ExecuteTime": {
     "end_time": "2022-11-01T17:56:02.981755Z",
     "start_time": "2022-11-01T17:56:02.977086Z"
    },
    "id": "d005a2b8"
   },
   "source": [
    "4-6. **Гіпотеза 3**"
   ]
  },
  {
   "cell_type": "code",
   "execution_count": 943,
   "metadata": {},
   "outputs": [
    {
     "data": {
      "text/html": [
       "<div>\n",
       "<style scoped>\n",
       "    .dataframe tbody tr th:only-of-type {\n",
       "        vertical-align: middle;\n",
       "    }\n",
       "\n",
       "    .dataframe tbody tr th {\n",
       "        vertical-align: top;\n",
       "    }\n",
       "\n",
       "    .dataframe thead th {\n",
       "        text-align: right;\n",
       "    }\n",
       "</style>\n",
       "<table border=\"1\" class=\"dataframe\">\n",
       "  <thead>\n",
       "    <tr style=\"text-align: right;\">\n",
       "      <th>Branch</th>\n",
       "      <th>Hour</th>\n",
       "      <th>A</th>\n",
       "      <th>B</th>\n",
       "      <th>C</th>\n",
       "    </tr>\n",
       "  </thead>\n",
       "  <tbody>\n",
       "    <tr>\n",
       "      <th>0</th>\n",
       "      <td>10</td>\n",
       "      <td>533.7340</td>\n",
       "      <td>422.1830</td>\n",
       "      <td>540.3440</td>\n",
       "    </tr>\n",
       "    <tr>\n",
       "      <th>1</th>\n",
       "      <td>11</td>\n",
       "      <td>540.4710</td>\n",
       "      <td>499.1340</td>\n",
       "      <td>406.9345</td>\n",
       "    </tr>\n",
       "    <tr>\n",
       "      <th>2</th>\n",
       "      <td>12</td>\n",
       "      <td>451.6700</td>\n",
       "      <td>403.5910</td>\n",
       "      <td>385.9715</td>\n",
       "    </tr>\n",
       "    <tr>\n",
       "      <th>3</th>\n",
       "      <td>13</td>\n",
       "      <td>497.3215</td>\n",
       "      <td>536.7815</td>\n",
       "      <td>619.3840</td>\n",
       "    </tr>\n",
       "    <tr>\n",
       "      <th>4</th>\n",
       "      <td>14</td>\n",
       "      <td>421.5435</td>\n",
       "      <td>556.8840</td>\n",
       "      <td>489.5915</td>\n",
       "    </tr>\n",
       "    <tr>\n",
       "      <th>5</th>\n",
       "      <td>15</td>\n",
       "      <td>536.8430</td>\n",
       "      <td>487.6745</td>\n",
       "      <td>460.2210</td>\n",
       "    </tr>\n",
       "    <tr>\n",
       "      <th>6</th>\n",
       "      <td>16</td>\n",
       "      <td>517.6065</td>\n",
       "      <td>196.3600</td>\n",
       "      <td>487.2870</td>\n",
       "    </tr>\n",
       "    <tr>\n",
       "      <th>7</th>\n",
       "      <td>17</td>\n",
       "      <td>430.6540</td>\n",
       "      <td>373.3835</td>\n",
       "      <td>360.0205</td>\n",
       "    </tr>\n",
       "    <tr>\n",
       "      <th>8</th>\n",
       "      <td>18</td>\n",
       "      <td>354.6200</td>\n",
       "      <td>455.0135</td>\n",
       "      <td>429.9065</td>\n",
       "    </tr>\n",
       "    <tr>\n",
       "      <th>9</th>\n",
       "      <td>19</td>\n",
       "      <td>491.9170</td>\n",
       "      <td>774.4025</td>\n",
       "      <td>624.1335</td>\n",
       "    </tr>\n",
       "    <tr>\n",
       "      <th>10</th>\n",
       "      <td>20</td>\n",
       "      <td>280.7800</td>\n",
       "      <td>351.6245</td>\n",
       "      <td>461.3825</td>\n",
       "    </tr>\n",
       "  </tbody>\n",
       "</table>\n",
       "</div>"
      ],
      "text/plain": [
       "Branch  Hour         A         B         C\n",
       "0         10  533.7340  422.1830  540.3440\n",
       "1         11  540.4710  499.1340  406.9345\n",
       "2         12  451.6700  403.5910  385.9715\n",
       "3         13  497.3215  536.7815  619.3840\n",
       "4         14  421.5435  556.8840  489.5915\n",
       "5         15  536.8430  487.6745  460.2210\n",
       "6         16  517.6065  196.3600  487.2870\n",
       "7         17  430.6540  373.3835  360.0205\n",
       "8         18  354.6200  455.0135  429.9065\n",
       "9         19  491.9170  774.4025  624.1335\n",
       "10        20  280.7800  351.6245  461.3825"
      ]
     },
     "execution_count": 943,
     "metadata": {},
     "output_type": "execute_result"
    }
   ],
   "source": [
    "def get_hour(time_value):\n",
    "    return int(time_value.split(':')[0])\n",
    "\n",
    "df['Hour'] = df['Time'].apply(get_hour)\n",
    "\n",
    "inv_by_time = pd.pivot_table(df, index='Hour', columns='Branch', values='gross income',\n",
    "                                                       aggfunc='sum').reset_index().fillna(0)\n",
    "inv_by_time"
   ]
  },
  {
   "cell_type": "code",
   "execution_count": 973,
   "metadata": {},
   "outputs": [
    {
     "data": {
      "text/html": [
       "<div>\n",
       "<style scoped>\n",
       "    .dataframe tbody tr th:only-of-type {\n",
       "        vertical-align: middle;\n",
       "    }\n",
       "\n",
       "    .dataframe tbody tr th {\n",
       "        vertical-align: top;\n",
       "    }\n",
       "\n",
       "    .dataframe thead th {\n",
       "        text-align: right;\n",
       "    }\n",
       "</style>\n",
       "<table border=\"1\" class=\"dataframe\">\n",
       "  <thead>\n",
       "    <tr style=\"text-align: right;\">\n",
       "      <th>Branch</th>\n",
       "      <th>Hour</th>\n",
       "      <th>A</th>\n",
       "    </tr>\n",
       "  </thead>\n",
       "  <tbody>\n",
       "    <tr>\n",
       "      <th>0</th>\n",
       "      <td>10</td>\n",
       "      <td>533.7340</td>\n",
       "    </tr>\n",
       "    <tr>\n",
       "      <th>1</th>\n",
       "      <td>11</td>\n",
       "      <td>540.4710</td>\n",
       "    </tr>\n",
       "    <tr>\n",
       "      <th>5</th>\n",
       "      <td>15</td>\n",
       "      <td>536.8430</td>\n",
       "    </tr>\n",
       "    <tr>\n",
       "      <th>6</th>\n",
       "      <td>16</td>\n",
       "      <td>517.6065</td>\n",
       "    </tr>\n",
       "  </tbody>\n",
       "</table>\n",
       "</div>"
      ],
      "text/plain": [
       "Branch  Hour         A\n",
       "0         10  533.7340\n",
       "1         11  540.4710\n",
       "5         15  536.8430\n",
       "6         16  517.6065"
      ]
     },
     "execution_count": 973,
     "metadata": {},
     "output_type": "execute_result"
    }
   ],
   "source": [
    "the_most_act_hour_A = inv_by_time[inv_by_time.A > 500][['Hour', 'A']]\n",
    "the_most_act_hour_A"
   ]
  },
  {
   "cell_type": "code",
   "execution_count": 981,
   "metadata": {},
   "outputs": [
    {
     "data": {
      "text/html": [
       "<div>\n",
       "<style scoped>\n",
       "    .dataframe tbody tr th:only-of-type {\n",
       "        vertical-align: middle;\n",
       "    }\n",
       "\n",
       "    .dataframe tbody tr th {\n",
       "        vertical-align: top;\n",
       "    }\n",
       "\n",
       "    .dataframe thead th {\n",
       "        text-align: right;\n",
       "    }\n",
       "</style>\n",
       "<table border=\"1\" class=\"dataframe\">\n",
       "  <thead>\n",
       "    <tr style=\"text-align: right;\">\n",
       "      <th>Branch</th>\n",
       "      <th>Hour</th>\n",
       "      <th>B</th>\n",
       "    </tr>\n",
       "  </thead>\n",
       "  <tbody>\n",
       "    <tr>\n",
       "      <th>3</th>\n",
       "      <td>13</td>\n",
       "      <td>536.7815</td>\n",
       "    </tr>\n",
       "    <tr>\n",
       "      <th>4</th>\n",
       "      <td>14</td>\n",
       "      <td>556.8840</td>\n",
       "    </tr>\n",
       "    <tr>\n",
       "      <th>9</th>\n",
       "      <td>19</td>\n",
       "      <td>774.4025</td>\n",
       "    </tr>\n",
       "  </tbody>\n",
       "</table>\n",
       "</div>"
      ],
      "text/plain": [
       "Branch  Hour         B\n",
       "3         13  536.7815\n",
       "4         14  556.8840\n",
       "9         19  774.4025"
      ]
     },
     "execution_count": 981,
     "metadata": {},
     "output_type": "execute_result"
    }
   ],
   "source": [
    "the_most_act_hour_B = inv_by_time[inv_by_time.B > 500][['Hour', 'B']]\n",
    "the_most_act_hour_B"
   ]
  },
  {
   "cell_type": "code",
   "execution_count": 979,
   "metadata": {},
   "outputs": [
    {
     "data": {
      "text/html": [
       "<div>\n",
       "<style scoped>\n",
       "    .dataframe tbody tr th:only-of-type {\n",
       "        vertical-align: middle;\n",
       "    }\n",
       "\n",
       "    .dataframe tbody tr th {\n",
       "        vertical-align: top;\n",
       "    }\n",
       "\n",
       "    .dataframe thead th {\n",
       "        text-align: right;\n",
       "    }\n",
       "</style>\n",
       "<table border=\"1\" class=\"dataframe\">\n",
       "  <thead>\n",
       "    <tr style=\"text-align: right;\">\n",
       "      <th>Branch</th>\n",
       "      <th>Hour</th>\n",
       "      <th>C</th>\n",
       "    </tr>\n",
       "  </thead>\n",
       "  <tbody>\n",
       "    <tr>\n",
       "      <th>0</th>\n",
       "      <td>10</td>\n",
       "      <td>540.3440</td>\n",
       "    </tr>\n",
       "    <tr>\n",
       "      <th>3</th>\n",
       "      <td>13</td>\n",
       "      <td>619.3840</td>\n",
       "    </tr>\n",
       "    <tr>\n",
       "      <th>9</th>\n",
       "      <td>19</td>\n",
       "      <td>624.1335</td>\n",
       "    </tr>\n",
       "  </tbody>\n",
       "</table>\n",
       "</div>"
      ],
      "text/plain": [
       "Branch  Hour         C\n",
       "0         10  540.3440\n",
       "3         13  619.3840\n",
       "9         19  624.1335"
      ]
     },
     "execution_count": 979,
     "metadata": {},
     "output_type": "execute_result"
    }
   ],
   "source": [
    "the_most_act_hour_C = inv_by_time[inv_by_time.C > 500][['Hour', 'C']]\n",
    "the_most_act_hour_C"
   ]
  },
  {
   "cell_type": "markdown",
   "metadata": {},
   "source": [
    "**Висновок**\n",
    "Branch A is active in the mornings and afternoons.\n",
    "Branch B is active in the afternoon and evening.\n",
    "Branch C is active in the morning, afternoon and evening.\n",
    "\n",
    "On the basis of the results, we can plan the promotional activities or the working hours."
   ]
  }
 ],
 "metadata": {
  "colab": {
   "provenance": []
  },
  "kernelspec": {
   "display_name": "Python 3 (ipykernel)",
   "language": "python",
   "name": "python3"
  },
  "language_info": {
   "codemirror_mode": {
    "name": "ipython",
    "version": 3
   },
   "file_extension": ".py",
   "mimetype": "text/x-python",
   "name": "python",
   "nbconvert_exporter": "python",
   "pygments_lexer": "ipython3",
   "version": "3.12.4"
  }
 },
 "nbformat": 4,
 "nbformat_minor": 4
}
