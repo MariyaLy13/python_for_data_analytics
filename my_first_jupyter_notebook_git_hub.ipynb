{
 "cells": [
  {
   "cell_type": "markdown",
   "id": "2d6d09e2-0d47-41cc-b93c-c15ac802ac92",
   "metadata": {},
   "source": [
    "# Input the text you want to encrypt."
   ]
  },
  {
   "cell_type": "code",
   "execution_count": 2,
   "id": "ca6c3af7-3558-47a6-b49e-c53e9c9ff7fb",
   "metadata": {},
   "outputs": [
    {
     "name": "stdin",
     "output_type": "stream",
     "text": [
      "Enter message:  Hello world\n"
     ]
    }
   ],
   "source": [
    "text = input(\"Enter message: \")"
   ]
  },
  {
   "cell_type": "markdown",
   "id": "662b850c-c86b-4703-8878-adcdfa67e08c",
   "metadata": {},
   "source": [
    "# Enter a valid shift value (repeat until it succeeds)."
   ]
  },
  {
   "cell_type": "code",
   "execution_count": 5,
   "id": "7410c4d0-cecd-4aeb-9b16-1b71bd7cac21",
   "metadata": {},
   "outputs": [],
   "source": [
    "shift = 0"
   ]
  },
  {
   "cell_type": "code",
   "execution_count": 7,
   "id": "4ff55051-d1c0-44a3-9bde-787ab6a8e44d",
   "metadata": {},
   "outputs": [
    {
     "name": "stdin",
     "output_type": "stream",
     "text": [
      "Enter the cipher shift value (1..25):  2\n"
     ]
    }
   ],
   "source": [
    "while shift == 0:\n",
    "    try:    \n",
    "        shift = int(input(\"Enter the cipher shift value (1..25): \"))\n",
    "        if shift not in range(1,26):\n",
    "        \traise ValueError\n",
    "    except ValueError:\n",
    "        shift = 0\n",
    "    if shift == 0:\n",
    "        print(\"Incorrect shift value!\")"
   ]
  },
  {
   "cell_type": "code",
   "execution_count": 9,
   "id": "828850e4-fcb0-4c6b-bf81-803f1531040f",
   "metadata": {},
   "outputs": [],
   "source": [
    "cipher = ''"
   ]
  },
  {
   "cell_type": "code",
   "execution_count": 11,
   "id": "c809ce03-65a0-4ae0-9b0e-bd3bab517a3e",
   "metadata": {},
   "outputs": [],
   "source": [
    "for char in text:\n",
    "    # Is it a letter?\n",
    "    if char.isalpha():\n",
    "        # Shift its code.\n",
    "        code = ord(char) + shift\n",
    "        # Find the code of the first letter (upper- or lower-case)\n",
    "        if char.isupper():\n",
    "            first = ord('A')\n",
    "        else:\n",
    "            first = ord('a')\n",
    "        # Make correction.\n",
    "        code -= first\n",
    "        code %= 26\n",
    "        # Append the encoded character to the message.\n",
    "        cipher += chr(first + code)\n",
    "    else:\n",
    "        # Append the original character to the message.\n",
    "        cipher += char"
   ]
  },
  {
   "cell_type": "code",
   "execution_count": 13,
   "id": "1a5d3eff-6d32-4bd5-9ad6-83acea108da0",
   "metadata": {},
   "outputs": [
    {
     "name": "stdout",
     "output_type": "stream",
     "text": [
      "Jgnnq yqtnf\n"
     ]
    }
   ],
   "source": [
    "print(cipher)"
   ]
  },
  {
   "cell_type": "code",
   "execution_count": 15,
   "id": "f669dcc1-7705-4481-bf07-e6f6a45dd413",
   "metadata": {},
   "outputs": [
    {
     "name": "stdout",
     "output_type": "stream",
     "text": [
      "Encoding of text is finished\n"
     ]
    }
   ],
   "source": [
    "print('Encoding of text is finished')"
   ]
  }
 ],
 "metadata": {
  "kernelspec": {
   "display_name": "Python 3 (ipykernel)",
   "language": "python",
   "name": "python3"
  },
  "language_info": {
   "codemirror_mode": {
    "name": "ipython",
    "version": 3
   },
   "file_extension": ".py",
   "mimetype": "text/x-python",
   "name": "python",
   "nbconvert_exporter": "python",
   "pygments_lexer": "ipython3",
   "version": "3.12.4"
  }
 },
 "nbformat": 4,
 "nbformat_minor": 5
}
