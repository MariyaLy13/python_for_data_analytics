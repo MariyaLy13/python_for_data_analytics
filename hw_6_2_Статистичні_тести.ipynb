{
 "cells": [
  {
   "cell_type": "markdown",
   "id": "e152f6d6",
   "metadata": {
    "ExecuteTime": {
     "end_time": "2022-12-10T14:29:24.703416Z",
     "start_time": "2022-12-10T14:29:24.688485Z"
    },
    "id": "e152f6d6"
   },
   "source": [
    "## Домашнє завдання 6: Статистичні тести"
   ]
  },
  {
   "cell_type": "markdown",
   "id": "cd404683",
   "metadata": {
    "id": "cd404683"
   },
   "source": [
    "0. Зчитайте дані з `data.csv` та запишіть значення колонки data у форматі np.ndarray в змінну data. Ми будемо далі працювати з цією змінною."
   ]
  },
  {
   "cell_type": "code",
   "execution_count": 31,
   "id": "a8M1Xqa3hInl",
   "metadata": {
    "id": "a8M1Xqa3hInl"
   },
   "outputs": [],
   "source": [
    "import pandas as pd\n",
    "import numpy as np\n",
    "from statsmodels.stats.weightstats import ztest\n",
    "from scipy import stats\n",
    "import matplotlib.pyplot as plt"
   ]
  },
  {
   "cell_type": "code",
   "execution_count": 19,
   "id": "daef562a-e687-4eef-901f-e4c298b01df6",
   "metadata": {
    "id": "a8M1Xqa3hInl"
   },
   "outputs": [],
   "source": [
    "data_path = '../../data/data_statistics/data.csv'\n",
    "df = pd.read_csv(data_path)"
   ]
  },
  {
   "cell_type": "code",
   "execution_count": 21,
   "id": "cd11e44c-0692-47d2-a39c-d28acc7f1e5f",
   "metadata": {
    "id": "a8M1Xqa3hInl"
   },
   "outputs": [],
   "source": [
    "data = df['data'].to_numpy()"
   ]
  },
  {
   "cell_type": "markdown",
   "id": "3d06cbbf",
   "metadata": {
    "id": "3d06cbbf"
   },
   "source": [
    "Запустіть код нижче. Для коректної робити всіх подальших методів дані мають бути у вигляді одновимірного вектора, тобто мати розмір (100,)."
   ]
  },
  {
   "cell_type": "code",
   "execution_count": 23,
   "id": "Rc_cM9TfhJYI",
   "metadata": {
    "id": "Rc_cM9TfhJYI"
   },
   "outputs": [
    {
     "data": {
      "text/plain": [
       "(100,)"
      ]
     },
     "execution_count": 23,
     "metadata": {},
     "output_type": "execute_result"
    }
   ],
   "source": [
    "data.shape"
   ]
  },
  {
   "cell_type": "markdown",
   "id": "abdcef5d",
   "metadata": {
    "id": "abdcef5d"
   },
   "source": [
    "1. Зчитані дані - це сума покупок в доларах наших покупців на сайті протягом липня 2022 року.\n",
    "\n",
    "До цього місяця, ми мали продажі в середньому на чек $20. Чи вийшло у нас статистично значущо **підвищити** середній чек за останній місяць?\n",
    "\n",
    "Оберіть статистичний тест (z-test чи t-test). Виведіть p-значення статистичного тесту та зробіть висновок, чи ми маємо зараз статистично значущу різницю у розмірі середнього чеку.\n",
    "\n",
    "**Підказка**: тут тест буде одновибірковий."
   ]
  },
  {
   "cell_type": "markdown",
   "id": "6e8829f1-5159-480c-aaae-66b1e8f30437",
   "metadata": {
    "id": "XhxcSbYqhLz9"
   },
   "source": [
    "**The null hypothesis (𝐻0)**: The average check does not change  𝜇=20.\n",
    "**The alternative hypothesis (𝐻1)**: The average check increases, so 𝜇>20."
   ]
  },
  {
   "cell_type": "code",
   "execution_count": 33,
   "id": "XhxcSbYqhLz9",
   "metadata": {
    "id": "XhxcSbYqhLz9"
   },
   "outputs": [],
   "source": [
    "H_0_mu = 20"
   ]
  },
  {
   "cell_type": "code",
   "execution_count": 35,
   "id": "88d9fcd0-9b1b-4dc2-83e0-ea2f89742c6a",
   "metadata": {
    "id": "XhxcSbYqhLz9"
   },
   "outputs": [],
   "source": [
    "length_n = len(data)"
   ]
  },
  {
   "cell_type": "code",
   "execution_count": 45,
   "id": "397c394c-7ac8-4182-a7e0-88a1c6fae4e7",
   "metadata": {
    "id": "XhxcSbYqhLz9"
   },
   "outputs": [],
   "source": [
    "mean_data = np.mean(data)"
   ]
  },
  {
   "cell_type": "code",
   "execution_count": 41,
   "id": "eb95e258-c074-4e71-a5df-98f100819af9",
   "metadata": {
    "id": "XhxcSbYqhLz9"
   },
   "outputs": [],
   "source": [
    "std_data = np.std(data, ddof=1)"
   ]
  },
  {
   "cell_type": "code",
   "execution_count": 74,
   "id": "5ce93af0-62ad-4811-a605-f9011da009ce",
   "metadata": {
    "id": "XhxcSbYqhLz9"
   },
   "outputs": [],
   "source": [
    "alfa = 0.05"
   ]
  },
  {
   "cell_type": "markdown",
   "id": "f1b8689c-cbaa-48ab-86d3-3e2597ca8c5f",
   "metadata": {
    "id": "XhxcSbYqhLz9"
   },
   "source": [
    "***T-test***"
   ]
  },
  {
   "cell_type": "code",
   "execution_count": 71,
   "id": "898d5c50-affe-41a4-a353-83786343fabc",
   "metadata": {
    "id": "XhxcSbYqhLz9"
   },
   "outputs": [
    {
     "data": {
      "text/plain": [
       "-0.995347738933505"
      ]
     },
     "execution_count": 71,
     "metadata": {},
     "output_type": "execute_result"
    }
   ],
   "source": [
    "t_stat = (mean_data - H_0_mu) / (std_data / np.sqrt(length_n))\n",
    "t_stat"
   ]
  },
  {
   "cell_type": "markdown",
   "id": "127651f5-a250-4eb8-864a-f3859ed46fd9",
   "metadata": {
    "id": "XhxcSbYqhLz9"
   },
   "source": [
    "***P-value_1***"
   ]
  },
  {
   "cell_type": "code",
   "execution_count": 78,
   "id": "9f67066e-78a5-40c8-b1ad-6e321c65c6bd",
   "metadata": {
    "id": "XhxcSbYqhLz9"
   },
   "outputs": [],
   "source": [
    "p_value_1 = 1 - stats.t.cdf(t_stat, df=length_n-1)"
   ]
  },
  {
   "cell_type": "code",
   "execution_count": 80,
   "id": "c0a46495-71d0-438c-867c-078b5608cb3c",
   "metadata": {
    "id": "XhxcSbYqhLz9"
   },
   "outputs": [
    {
     "data": {
      "text/plain": [
       "0.8390031080494005"
      ]
     },
     "execution_count": 80,
     "metadata": {},
     "output_type": "execute_result"
    }
   ],
   "source": [
    "p_value_1"
   ]
  },
  {
   "cell_type": "code",
   "execution_count": 82,
   "id": "2b8507fc-29e6-48b0-922f-2d928501a8b0",
   "metadata": {
    "id": "XhxcSbYqhLz9"
   },
   "outputs": [
    {
     "data": {
      "text/plain": [
       "False"
      ]
     },
     "execution_count": 82,
     "metadata": {},
     "output_type": "execute_result"
    }
   ],
   "source": [
    "p_value_1 < alfa"
   ]
  },
  {
   "cell_type": "markdown",
   "id": "2f188df2-028b-4c2f-865e-1fe54d3cdf44",
   "metadata": {
    "id": "XhxcSbYqhLz9"
   },
   "source": [
    "***Conclusion 1***\n",
    "*P-value_1 > 0.05, so we cannot reject H0 and say that last month's average check is higher than the previous month.*"
   ]
  },
  {
   "cell_type": "markdown",
   "id": "e8aaeb6a-4b5d-445f-b856-37efdf26e5b0",
   "metadata": {
    "id": "XhxcSbYqhLz9"
   },
   "source": [
    "***Z-test***, ***P-value***"
   ]
  },
  {
   "cell_type": "code",
   "execution_count": 120,
   "id": "0299f5e7-b779-4743-b881-66a8043d54f5",
   "metadata": {
    "id": "XhxcSbYqhLz9"
   },
   "outputs": [],
   "source": [
    "ztest_Score, p_value = ztest(data, value = H_0_mu, alternative='larger')"
   ]
  },
  {
   "cell_type": "code",
   "execution_count": 122,
   "id": "ff4d92e3-fc08-4882-8f81-903a44147da5",
   "metadata": {
    "id": "XhxcSbYqhLz9"
   },
   "outputs": [
    {
     "data": {
      "text/plain": [
       "(-0.9953477389335053, 0.8402164165464012)"
      ]
     },
     "execution_count": 122,
     "metadata": {},
     "output_type": "execute_result"
    }
   ],
   "source": [
    "ztest_Score, p_value"
   ]
  },
  {
   "cell_type": "code",
   "execution_count": 124,
   "id": "4d88f399-a434-4b78-a884-e22f7f983241",
   "metadata": {
    "id": "XhxcSbYqhLz9"
   },
   "outputs": [
    {
     "data": {
      "text/plain": [
       "False"
      ]
     },
     "execution_count": 124,
     "metadata": {},
     "output_type": "execute_result"
    }
   ],
   "source": [
    "p_value < alfa"
   ]
  },
  {
   "cell_type": "markdown",
   "id": "85c495df-0f7b-4ad0-9662-7bfa404176d4",
   "metadata": {
    "id": "XhxcSbYqhLz9"
   },
   "source": [
    "***Conclusion 2***\n",
    "*P-value > 0.05, so we cannot reject H0 and say that last month's average check is higher than the previous month.*"
   ]
  },
  {
   "cell_type": "markdown",
   "id": "d2c68e5d-aeef-46ee-a294-5cb47232fad7",
   "metadata": {
    "id": "XhxcSbYqhLz9"
   },
   "source": [
    "**I counted the P-value using both Z-test and T-test to practise and compare results.**"
   ]
  },
  {
   "cell_type": "markdown",
   "id": "05219e41",
   "metadata": {
    "ExecuteTime": {
     "end_time": "2022-12-10T14:52:46.140204Z",
     "start_time": "2022-12-10T14:52:46.112068Z"
    },
    "id": "05219e41"
   },
   "source": [
    "2. Пройшов час, і ми зібрали дані про продажі за серпень 2022 року, які зберігли у файл `data_2.csv`. Продажів було дещо більше, але чи змінився стат. значущо середній чек порівняно з липнем 2022? Перевірте це використовуючи ztest.\n",
    "\n",
    "  Виведіть p-значення статистичного тесту та зробіть висновок, чи ми маємо зараз статистично значущу різницю у розмірі середнього чека між двома місяцями.\n",
    "\n",
    "  **Підказка**: треба провести двовибірковий ztest з Н0 - що середні значення в липні та серпні 2022 року - однакові. Для кращого розуміння ситуації, можливо вам буде цікаво переглянути, які середні показники чеку були в кожен з місяців. Порівняйте свій висновок з простого спостереження середніх значень і висновок статистичного тесту. Чи вони збігаються?"
   ]
  },
  {
   "cell_type": "markdown",
   "id": "d21101b6-e0e5-4332-be1f-86d4da2ad74b",
   "metadata": {
    "id": "XhxcSbYqhLz9"
   },
   "source": [
    "**The null hypothesis (𝐻0)**: July average check = August average check.\n",
    "**The alternative hypothesis (𝐻1)**: August average check > July average check."
   ]
  },
  {
   "cell_type": "code",
   "execution_count": 96,
   "id": "171447c2-6358-414d-b246-23a814f8feee",
   "metadata": {
    "id": "XhxcSbYqhLz9"
   },
   "outputs": [],
   "source": [
    "data_path_2 = '../../data/data_statistics/data_2.csv'\n",
    "df_2 = pd.read_csv(data_path_2)"
   ]
  },
  {
   "cell_type": "code",
   "execution_count": 98,
   "id": "d12f1339-cd2f-4388-9232-dcb97abd3013",
   "metadata": {
    "id": "XhxcSbYqhLz9"
   },
   "outputs": [],
   "source": [
    "data_2 = df_2['data'].to_numpy()"
   ]
  },
  {
   "cell_type": "code",
   "execution_count": 102,
   "id": "hbs7LPI4hP-6",
   "metadata": {
    "id": "hbs7LPI4hP-6"
   },
   "outputs": [
    {
     "data": {
      "text/plain": [
       "(120,)"
      ]
     },
     "execution_count": 102,
     "metadata": {},
     "output_type": "execute_result"
    }
   ],
   "source": [
    "data_2.shape"
   ]
  },
  {
   "cell_type": "code",
   "execution_count": 112,
   "id": "c6b043df-3374-434d-aba3-25c2cf6ecd44",
   "metadata": {
    "id": "hbs7LPI4hP-6"
   },
   "outputs": [
    {
     "data": {
      "text/plain": [
       "(19.37755319670441, 19.37322276512519)"
      ]
     },
     "execution_count": 112,
     "metadata": {},
     "output_type": "execute_result"
    }
   ],
   "source": [
    "mean_july = np.mean(data)\n",
    "mean_august = np.mean(data_2)\n",
    "mean_july, mean_august"
   ]
  },
  {
   "cell_type": "code",
   "execution_count": 106,
   "id": "54bb4219-9a62-4866-af13-a1c540f33097",
   "metadata": {
    "id": "hbs7LPI4hP-6"
   },
   "outputs": [
    {
     "data": {
      "text/plain": [
       "(6.25356123240434, 5.96126011557911)"
      ]
     },
     "execution_count": 106,
     "metadata": {},
     "output_type": "execute_result"
    }
   ],
   "source": [
    "std_july = np.std(data, ddof=1)\n",
    "std_august = np.std(data_2, ddof=1)\n",
    "std_july, std_august"
   ]
  },
  {
   "cell_type": "code",
   "execution_count": 108,
   "id": "d4ddbb56-d995-4199-a5ca-8bc8da7aad9a",
   "metadata": {
    "id": "hbs7LPI4hP-6"
   },
   "outputs": [
    {
     "data": {
      "text/plain": [
       "(100, 120)"
      ]
     },
     "execution_count": 108,
     "metadata": {},
     "output_type": "execute_result"
    }
   ],
   "source": [
    "n_july = len(data)\n",
    "n_august = len(data_2)\n",
    "n_july, n_august"
   ]
  },
  {
   "cell_type": "markdown",
   "id": "20549f6a-36d0-4b1e-932f-5126daa4b203",
   "metadata": {
    "id": "hbs7LPI4hP-6"
   },
   "source": [
    "***Z-test***, ***P-value*** - *by manual calculation*"
   ]
  },
  {
   "cell_type": "code",
   "execution_count": 114,
   "id": "ef14307f-310b-4efe-9f91-3b2d124f4ef9",
   "metadata": {
    "id": "hbs7LPI4hP-6"
   },
   "outputs": [],
   "source": [
    "z_stat = (mean_july - mean_august) / np.sqrt((std_july**2 / n_july) + (std_august**2 / n_august))"
   ]
  },
  {
   "cell_type": "code",
   "execution_count": 118,
   "id": "fca73e65-aecb-44d3-87c3-e2d00903b107",
   "metadata": {
    "id": "hbs7LPI4hP-6"
   },
   "outputs": [],
   "source": [
    "p_value_2_side = 2 * (1 - stats.norm.cdf(abs(z_stat)))"
   ]
  },
  {
   "cell_type": "code",
   "execution_count": 132,
   "id": "08fde566-5c90-4c6a-bc9d-d6ddd311f884",
   "metadata": {
    "id": "hbs7LPI4hP-6"
   },
   "outputs": [
    {
     "data": {
      "text/plain": [
       "(0.005223803420073814, 0.9958320268584893)"
      ]
     },
     "execution_count": 132,
     "metadata": {},
     "output_type": "execute_result"
    }
   ],
   "source": [
    "z_stat, p_value_2_side"
   ]
  },
  {
   "cell_type": "code",
   "execution_count": 143,
   "id": "01763962-721a-4599-8b8b-07cf9445aff7",
   "metadata": {
    "id": "hbs7LPI4hP-6"
   },
   "outputs": [
    {
     "data": {
      "text/plain": [
       "False"
      ]
     },
     "execution_count": 143,
     "metadata": {},
     "output_type": "execute_result"
    }
   ],
   "source": [
    "p_value_2_side < alfa"
   ]
  },
  {
   "cell_type": "markdown",
   "id": "5a8d0109-93ab-4f05-9cd0-08f8e2ea471f",
   "metadata": {
    "id": "XhxcSbYqhLz9"
   },
   "source": [
    "***Conclusion 3***\n",
    "*P-value > 0.05, so we cannot reject H0 and say that August average check is higher than July average check.*"
   ]
  },
  {
   "cell_type": "markdown",
   "id": "b2579d54-9da0-47b7-8e3b-251c62e6a53e",
   "metadata": {
    "id": "hbs7LPI4hP-6"
   },
   "source": [
    "***Z-test***, ***P-value*** - *using imported ztest*"
   ]
  },
  {
   "cell_type": "code",
   "execution_count": 134,
   "id": "f6722a7e-de16-476b-a9c6-0c482c18e972",
   "metadata": {
    "id": "hbs7LPI4hP-6"
   },
   "outputs": [],
   "source": [
    "z_stat_2, p_value_2_side_2 = ztest(data, data_2, alternative='two-sided')"
   ]
  },
  {
   "cell_type": "code",
   "execution_count": 136,
   "id": "265c44be-759e-4df2-b6b9-6f6b99a19cc8",
   "metadata": {
    "id": "hbs7LPI4hP-6"
   },
   "outputs": [
    {
     "data": {
      "text/plain": [
       "(0.005246673456808504, 0.9958137794593356)"
      ]
     },
     "execution_count": 136,
     "metadata": {},
     "output_type": "execute_result"
    }
   ],
   "source": [
    "z_stat_2, p_value_2_side_2"
   ]
  },
  {
   "cell_type": "code",
   "execution_count": 145,
   "id": "c9059f56-318f-4073-9c4d-aef8b2e4430b",
   "metadata": {
    "id": "hbs7LPI4hP-6"
   },
   "outputs": [
    {
     "data": {
      "text/plain": [
       "False"
      ]
     },
     "execution_count": 145,
     "metadata": {},
     "output_type": "execute_result"
    }
   ],
   "source": [
    "p_value_2_side_2 < alfa"
   ]
  },
  {
   "cell_type": "markdown",
   "id": "98370bc9-2a31-46a3-9ba8-f12fcaa36605",
   "metadata": {
    "id": "hbs7LPI4hP-6"
   },
   "source": [
    "***Conclusion 4***\n",
    "*P-value > 0.05, so we cannot reject H0 and say that August average check is higher than July average check.*"
   ]
  }
 ],
 "metadata": {
  "colab": {
   "provenance": []
  },
  "hide_input": false,
  "kernelspec": {
   "display_name": "Python 3 (ipykernel)",
   "language": "python",
   "name": "python3"
  },
  "language_info": {
   "codemirror_mode": {
    "name": "ipython",
    "version": 3
   },
   "file_extension": ".py",
   "mimetype": "text/x-python",
   "name": "python",
   "nbconvert_exporter": "python",
   "pygments_lexer": "ipython3",
   "version": "3.12.4"
  },
  "toc": {
   "base_numbering": 1,
   "nav_menu": {},
   "number_sections": true,
   "sideBar": true,
   "skip_h1_title": false,
   "title_cell": "Table of Contents",
   "title_sidebar": "Contents",
   "toc_cell": false,
   "toc_position": {},
   "toc_section_display": true,
   "toc_window_display": false
  },
  "varInspector": {
   "cols": {
    "lenName": 16,
    "lenType": 16,
    "lenVar": 40
   },
   "kernels_config": {
    "python": {
     "delete_cmd_postfix": "",
     "delete_cmd_prefix": "del ",
     "library": "var_list.py",
     "varRefreshCmd": "print(var_dic_list())"
    },
    "r": {
     "delete_cmd_postfix": ") ",
     "delete_cmd_prefix": "rm(",
     "library": "var_list.r",
     "varRefreshCmd": "cat(var_dic_list()) "
    }
   },
   "types_to_exclude": [
    "module",
    "function",
    "builtin_function_or_method",
    "instance",
    "_Feature"
   ],
   "window_display": false
  }
 },
 "nbformat": 4,
 "nbformat_minor": 5
}
