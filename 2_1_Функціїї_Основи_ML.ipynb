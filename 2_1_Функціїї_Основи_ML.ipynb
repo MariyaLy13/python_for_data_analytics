{
 "cells": [
  {
   "cell_type": "markdown",
   "metadata": {
    "id": "QtHabST6Ez_n"
   },
   "source": [
    "# Домашнє завдання до теми \"Functions\""
   ]
  },
  {
   "cell_type": "markdown",
   "metadata": {
    "id": "6pg_NzFq5_kO"
   },
   "source": [
    "1. Напишіть фукнцію `print_message`, яка виводить на екран \"Я програмую на Python💪\" і викличіть цю фукнцію 5 разів (найкраще це зробити в циклі).\n",
    "\n",
    "  **Увага**: фукнція має робити чітко лише зазначений функціонал. Наявність додаткового функціоналу і аргументів, які не потрібні для виконання безпосередньо завдання, буде вважатись помилкою."
   ]
  },
  {
   "cell_type": "code",
   "execution_count": 23,
   "metadata": {
    "id": "RbXsfwI_D8ql"
   },
   "outputs": [
    {
     "name": "stdout",
     "output_type": "stream",
     "text": [
      "Я програмую на Python💪\n",
      "Я програмую на Python💪\n",
      "Я програмую на Python💪\n",
      "Я програмую на Python💪\n",
      "Я програмую на Python💪\n"
     ]
    }
   ],
   "source": [
    "def print_message():\n",
    "    return \"Я програмую на Python💪\"\n",
    "for i in range(5):\n",
    "    print(print_message())"
   ]
  },
  {
   "cell_type": "markdown",
   "metadata": {
    "id": "oyRpWRXWBL9N"
   },
   "source": [
    "2. Напишіть функцію `calculation` яка приймає на вхід 4 аргументи типу int - `a`, `b`, `c`, `d` і вертає результат обчислення такої формули: $ (a + b - c) * d $.\n",
    "\n",
    "  Викличте функцію на наступному наборі аргументів і виведіть результат на екран:\n",
    "  ```\n",
    "  a = 16\n",
    "  b = 4\n",
    "  c = 9\n",
    "  d = 3\n",
    "  ```"
   ]
  },
  {
   "cell_type": "code",
   "execution_count": 30,
   "metadata": {
    "id": "Ggt2tx6kD-LS"
   },
   "outputs": [
    {
     "name": "stdout",
     "output_type": "stream",
     "text": [
      "33\n"
     ]
    }
   ],
   "source": [
    "def calculation(parameter_1: int, parameter_2: int, parameter_3: int, parameter_4: int) -> int:\n",
    "    assert type(parameter_1) == int and type(parameter_2) == int and type(parameter_3) == int and type(parameter_4) == int\n",
    "    return ((parameter_1 + parameter_2 - parameter_3) * parameter_4)\n",
    "\n",
    "a = 16\n",
    "b = 4\n",
    "c = 9\n",
    "d = 3\n",
    "\n",
    "result_calculation = calculation(a,b,c,d)\n",
    "print(result_calculation)"
   ]
  },
  {
   "cell_type": "markdown",
   "metadata": {
    "id": "5hf1CbllDU_t"
   },
   "source": [
    "3. Напишіть функцію, яка додає до аргумента 15 і вертає результат додавання. Викличте функцію, передаючи в якості аргументів кожну з наступних змінних по черзі, і виведіть кожного разу результат на екран.\n",
    "```\n",
    "x = 9\n",
    "y = 14\n",
    "z = -19\n",
    "```"
   ]
  },
  {
   "cell_type": "code",
   "execution_count": 70,
   "metadata": {
    "id": "GvEs_nUtD_Cd"
   },
   "outputs": [
    {
     "name": "stdout",
     "output_type": "stream",
     "text": [
      "24\n",
      "29\n",
      "-4\n"
     ]
    }
   ],
   "source": [
    "def adding_15(input_parameter: int) -> int:\n",
    "    assert type(input_parameter) == int or type(input_parameter) == float or type(input_parameter) == str\n",
    "    if type(input_parameter) == str:\n",
    "        input_parameter = int(input_parameter)\n",
    "    else:\n",
    "        assert type(input_parameter) == int\n",
    "    return input_parameter + 15\n",
    "\n",
    "x = 9\n",
    "y = 14\n",
    "z = -19\n",
    "\n",
    "list_x_y_z = [x, y, z]\n",
    "\n",
    "for i in list_x_y_z:\n",
    "    print(adding_15(i))"
   ]
  },
  {
   "cell_type": "markdown",
   "metadata": {
    "id": "bUuVBhie53uK"
   },
   "source": [
    "4. Напишіть функцію `multipy_numbers`, яка приймає два числа як аргументи і повертає їх добуток.\n",
    "\n",
    "  Викличіть функцію `multipy_numbers` на парах чисел\n",
    "    - 10 і 2\n",
    "    - 7 і 8\n",
    "    - 1024 і 999.\n",
    "  \n",
    "  Виведіть результат кожного виклику.\n",
    "  При виконанні цього завдання з використанням циклу - отримаєте 2х балів за нього :)"
   ]
  },
  {
   "cell_type": "code",
   "execution_count": 78,
   "metadata": {
    "id": "cDqrgZ4YEAKj"
   },
   "outputs": [
    {
     "name": "stdout",
     "output_type": "stream",
     "text": [
      "20\n",
      "56\n",
      "1022976\n"
     ]
    }
   ],
   "source": [
    "def multipy_numbers(x: int, y: int) -> int:\n",
    "    assert type(x) == int and type(y) == int\n",
    "    return x * y\n",
    "    \n",
    "my_pairs = {10: 2, 7: 8, 1024: 999}\n",
    "\n",
    "for a,b in my_pairs.items():\n",
    "    print(multipy_numbers(a,b))"
   ]
  },
  {
   "cell_type": "markdown",
   "metadata": {
    "id": "I03t46k27dDZ"
   },
   "source": [
    "5. **Ділення з перевіркою типів.**  \n",
    "\n",
    "  1. Напишіть функцію `int_division` яка приймає на вхід два аргументи типу `int` - `a` і `b`, і виконує ділення першого аргумента на другий: `a/b`. При цьому функція перед діленням перевіряє, чи другий аргумент не дорівнює 0. Якщо другий аргумент не 0, фукнція вертає результат ділення, інакше - замість виконання ділення, вертає повідомлення на екран \"Не можу виконати ділення на 0\".\n",
    "\n",
    "    Якщо типи, надані у функцію, не `int` - функція виводить повідомлення \"Не працюю з такими типами даних.\".\n",
    "\n",
    "  2. Запустіть функцію на наступних парах чисел:\n",
    "  - 12 і 6\n",
    "  - 20 і 0\n",
    "  - 112 і 10\n",
    "  - 99 і 0\n",
    "  - 11 i 1.1\n",
    "\n",
    "    і виведіть на екран повідомлення \"Результат роботи функції: \" - і далі те, що повернула функція.\n",
    "\n",
    "  3. Дайте відповідь на питання: \"Чому в деяких випадках функція повернула None?\""
   ]
  },
  {
   "cell_type": "code",
   "execution_count": 102,
   "metadata": {
    "id": "1-EQhxrAEEAb"
   },
   "outputs": [
    {
     "name": "stdout",
     "output_type": "stream",
     "text": [
      "Результат роботи функції:\n",
      "2.0\n",
      "The new iteration\n",
      "Не можу виконати ділення на 0\n",
      "The new iteration\n",
      "Результат роботи функції:\n",
      "11.2\n",
      "The new iteration\n",
      "Не можу виконати ділення на 0\n",
      "The new iteration\n",
      "Не працюю з такими типами даних.\n",
      "The new iteration\n"
     ]
    }
   ],
   "source": [
    "def int_division(a: int, b: int) -> int:\n",
    "    if type(a) != int or type(b) != int:\n",
    "        return 'Не працюю з такими типами даних.'\n",
    "    elif b == 0:\n",
    "        return 'Не можу виконати ділення на 0'\n",
    "    else:\n",
    "        print('Результат роботи функції:')\n",
    "        return a / b\n",
    "\n",
    "my_data = {12: 6, 20: 0, 112: 10, 99: 0, 11: 1.1}\n",
    "\n",
    "for a_i, b_i in my_data.items():\n",
    "    print(int_division(a_i, b_i))\n",
    "    print('The new iteration')"
   ]
  },
  {
   "cell_type": "markdown",
   "metadata": {},
   "source": [
    "I make some tests. The function returned None when I added print() to the return. I think that is because in this case print() show our result but return show None as it returned print()\n",
    "Please, correct me if I'm wrong"
   ]
  },
  {
   "cell_type": "code",
   "execution_count": 104,
   "metadata": {},
   "outputs": [
    {
     "name": "stdout",
     "output_type": "stream",
     "text": [
      "Результат роботи функції: 2.0\n",
      "None\n",
      "The new iteration\n",
      "Не можу виконати ділення на 0\n",
      "The new iteration\n",
      "Результат роботи функції: 11.2\n",
      "None\n",
      "The new iteration\n",
      "Не можу виконати ділення на 0\n",
      "The new iteration\n",
      "Не працюю з такими типами даних.\n",
      "The new iteration\n"
     ]
    }
   ],
   "source": [
    "def int_division(a: int, b: int) -> int:\n",
    "    if type(a) != int or type(b) != int:\n",
    "        return 'Не працюю з такими типами даних.'\n",
    "    elif b == 0:\n",
    "        return 'Не можу виконати ділення на 0'\n",
    "    else:\n",
    "        return print('Результат роботи функції:', a / b)\n",
    "\n",
    "my_data = {12: 6, 20: 0, 112: 10, 99: 0, 11: 1.1}\n",
    "\n",
    "for a_i, b_i in my_data.items():\n",
    "    print(int_division(a_i, b_i))\n",
    "    print('The new iteration')"
   ]
  },
  {
   "cell_type": "code",
   "execution_count": null,
   "metadata": {},
   "outputs": [],
   "source": []
  }
 ],
 "metadata": {
  "colab": {
   "provenance": []
  },
  "kernelspec": {
   "display_name": "Python 3 (ipykernel)",
   "language": "python",
   "name": "python3"
  },
  "language_info": {
   "codemirror_mode": {
    "name": "ipython",
    "version": 3
   },
   "file_extension": ".py",
   "mimetype": "text/x-python",
   "name": "python",
   "nbconvert_exporter": "python",
   "pygments_lexer": "ipython3",
   "version": "3.12.4"
  }
 },
 "nbformat": 4,
 "nbformat_minor": 4
}
