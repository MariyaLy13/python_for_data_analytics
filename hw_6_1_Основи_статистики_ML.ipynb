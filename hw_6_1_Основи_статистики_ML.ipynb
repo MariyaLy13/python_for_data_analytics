{
 "cells": [
  {
   "cell_type": "markdown",
   "metadata": {
    "id": "SDhaTqxcWhnP"
   },
   "source": [
    "В цьому домашньому завданні відпрацюємо з вами знання, отримані в модулі зі статистики.\n",
    "\n",
    "**Завдання 1.** Ми обговорили з Вами на лекції, що велика літера Сігма грецького алфавіту позначає в математиці суму. Знайдіть з використанням Python $\\Sigma x$, $\\Sigma x^2$, та $\\Sigma (x-1)^2$ для наступного набору даних:\n",
    "`1 3 4`\n",
    "Виведіть результат кожного обчислення на екран."
   ]
  },
  {
   "cell_type": "code",
   "execution_count": 1,
   "metadata": {
    "id": "B1mgx_IBT0e8"
   },
   "outputs": [],
   "source": [
    "import numpy as np"
   ]
  },
  {
   "cell_type": "code",
   "execution_count": 3,
   "metadata": {
    "id": "B1mgx_IBT0e8"
   },
   "outputs": [],
   "source": [
    "x = [1, 3, 4]"
   ]
  },
  {
   "cell_type": "code",
   "execution_count": 5,
   "metadata": {
    "id": "B1mgx_IBT0e8"
   },
   "outputs": [
    {
     "name": "stdout",
     "output_type": "stream",
     "text": [
      "Σx: 8\n"
     ]
    }
   ],
   "source": [
    "Σ_x = sum(x)\n",
    "print(\"Σx:\", Σ_x)"
   ]
  },
  {
   "cell_type": "code",
   "execution_count": 7,
   "metadata": {
    "id": "B1mgx_IBT0e8"
   },
   "outputs": [
    {
     "name": "stdout",
     "output_type": "stream",
     "text": [
      "Σx^2: 26\n"
     ]
    }
   ],
   "source": [
    "Σ_x_2 = sum(i**2 for i in x)\n",
    "print(\"Σx^2:\", Σ_x_2)"
   ]
  },
  {
   "cell_type": "code",
   "execution_count": 9,
   "metadata": {
    "id": "B1mgx_IBT0e8"
   },
   "outputs": [
    {
     "name": "stdout",
     "output_type": "stream",
     "text": [
      "Σ(x-1)^2: 13\n"
     ]
    }
   ],
   "source": [
    "Σ_x_1_2 = sum((i-1)**2 for i in x)\n",
    "print(\"Σ(x-1)^2:\", Σ_x_1_2)"
   ]
  },
  {
   "cell_type": "markdown",
   "metadata": {
    "id": "fa78aW5lhiia"
   },
   "source": [
    "**Завдання 2.** Ми зібрали дані про суму покупок в гривнях 20ма випадково обраними клієнтами в нашому магазині (всього клієнтів у нас більше) за минулий місяць. Вони представлені в змінній `sum_purchases`. Знайдіть **вибіркове середнє** для цих даних кожним з зазначених методів:   \n",
    "\n",
    "  2.1. без використання жодних бібліотек, користуючись тільки Python.  \n",
    "  2.2. використовуючи відповідний метод бібліотеки `numpy`.\n",
    "\n",
    "  Виведіть результат обчислень в кожному з випадків на екран та порівняйте результати. Вони співпадають?"
   ]
  },
  {
   "cell_type": "code",
   "execution_count": 11,
   "metadata": {
    "id": "_9kMt3rq6V5m"
   },
   "outputs": [],
   "source": [
    "sum_purchases = [316,  493,  367,  153,  224,  121,  322,  450,  196,  397,  281,\n",
    "  239,  484,  124,  223,  448,  432,  255, 4310, 3524]"
   ]
  },
  {
   "cell_type": "markdown",
   "metadata": {
    "id": "wPmL919HT1c0"
   },
   "source": [
    "2.1 Find $$\\bar{x}$$ using formula:\n",
    "$$ \\bar{x} = \\frac{1}{n} \\sum_{i=1}^{n} x_i $$"
   ]
  },
  {
   "cell_type": "code",
   "execution_count": 13,
   "metadata": {
    "id": "wPmL919HT1c0"
   },
   "outputs": [],
   "source": [
    "length_sum_purchases = len(sum_purchases)"
   ]
  },
  {
   "cell_type": "code",
   "execution_count": 15,
   "metadata": {
    "id": "wPmL919HT1c0"
   },
   "outputs": [
    {
     "name": "stdout",
     "output_type": "stream",
     "text": [
      "667.95\n"
     ]
    }
   ],
   "source": [
    "mean_x_1 = sum(sum_purchases) / length_sum_purchases\n",
    "print(mean_x_1)"
   ]
  },
  {
   "cell_type": "markdown",
   "metadata": {
    "id": "wPmL919HT1c0"
   },
   "source": [
    "2.2 Find $$\\bar{x}$$ using numpy build in function mean()"
   ]
  },
  {
   "cell_type": "code",
   "execution_count": 17,
   "metadata": {
    "id": "wPmL919HT1c0"
   },
   "outputs": [
    {
     "name": "stdout",
     "output_type": "stream",
     "text": [
      "667.95\n"
     ]
    }
   ],
   "source": [
    "mean_x_2 = np.mean(sum_purchases)\n",
    "print(mean_x_2)"
   ]
  },
  {
   "cell_type": "code",
   "execution_count": 19,
   "metadata": {
    "id": "wPmL919HT1c0"
   },
   "outputs": [
    {
     "name": "stdout",
     "output_type": "stream",
     "text": [
      "Does the mean(x) that was counted using the first and the second method is equal:  True\n"
     ]
    }
   ],
   "source": [
    "print('Does the mean(x) that was counted using the first and the second method is equal: ', mean_x_1 == mean_x_2)"
   ]
  },
  {
   "cell_type": "markdown",
   "metadata": {
    "id": "FMdoxZd0kZdW"
   },
   "source": [
    "**Завдання 3.** Для того ж набору даних в змінній `sum_purchases` обчисліть **медіану** кожним з зазначених методів:  \n",
    "\n",
    "  3.1. без використання жодних бібліотек, користуючись тільки Python.  \n",
    "  3.2. використовуючи відповідний метод бібліотеки numpy.  \n",
    "\n",
    "Виведіть результат обчислень в кожному з випадків на екран. Порівняйте результати зі значенням вибіркового середнього. Напишіть коментар, для яких задач ви б використовували вибіркове середнє, а для яких - медіану?"
   ]
  },
  {
   "cell_type": "markdown",
   "metadata": {
    "id": "x58BumvuT2nl"
   },
   "source": [
    "3.1 The first method of finding median(x)"
   ]
  },
  {
   "cell_type": "code",
   "execution_count": 21,
   "metadata": {
    "id": "x58BumvuT2nl"
   },
   "outputs": [
    {
     "name": "stdout",
     "output_type": "stream",
     "text": [
      "319.0\n"
     ]
    }
   ],
   "source": [
    "median_x_1 = (sorted(sum_purchases)[length_sum_purchases//2-1] + sorted(sum_purchases)[length_sum_purchases//2]) / 2\n",
    "print(median_x_1)"
   ]
  },
  {
   "cell_type": "markdown",
   "metadata": {
    "id": "x58BumvuT2nl"
   },
   "source": [
    "3.2 The second method of finding median(x)"
   ]
  },
  {
   "cell_type": "code",
   "execution_count": 23,
   "metadata": {
    "id": "x58BumvuT2nl"
   },
   "outputs": [
    {
     "name": "stdout",
     "output_type": "stream",
     "text": [
      "319.0\n"
     ]
    }
   ],
   "source": [
    "median_x_2 = np.median(sum_purchases)\n",
    "print(median_x_2)"
   ]
  },
  {
   "cell_type": "markdown",
   "metadata": {
    "id": "x58BumvuT2nl"
   },
   "source": [
    "*The mean can be a good choice if the data is normally distributed and has no significant outliers. However, the median might be more representative if the data has considerable skewness or outliers. So it’s all about selecting the measure that best aligns with data’s characteristics.*"
   ]
  },
  {
   "cell_type": "markdown",
   "metadata": {
    "id": "o1Z7az2yNDQV"
   },
   "source": [
    "**Завдання 4**. Обчислість стандартне відхилення наведеної вибірки в змінній `sum_purchases` кожним з зазначених методів:  \n",
    "\n",
    "  4.1. без використання жодних бібліотек, користуючись тільки Python.  \n",
    "  4.2. використовуючи відповідний метод бібліотеки numpy.  \n",
    "\n",
    "Виведіть результат обчислень в кожному з випадків на екран."
   ]
  },
  {
   "cell_type": "markdown",
   "metadata": {
    "id": "x58BumvuT2nl"
   },
   "source": [
    "4.1 The first method of finding std(x)"
   ]
  },
  {
   "cell_type": "code",
   "execution_count": 25,
   "metadata": {
    "id": "X4ixtmL2T642"
   },
   "outputs": [
    {
     "name": "stdout",
     "output_type": "stream",
     "text": [
      "1124.5433447451132\n"
     ]
    }
   ],
   "source": [
    "x_minus_mean = [(el - mean_x_1)**2 for el in sum_purchases]\n",
    "std_x_1 = np.sqrt(sum(x_minus_mean)/(length_sum_purchases-1))\n",
    "print(std_x_1)"
   ]
  },
  {
   "cell_type": "markdown",
   "metadata": {
    "id": "x58BumvuT2nl"
   },
   "source": [
    "4.2 The second method of finding std(x)"
   ]
  },
  {
   "cell_type": "code",
   "execution_count": 27,
   "metadata": {
    "id": "X4ixtmL2T642"
   },
   "outputs": [
    {
     "name": "stdout",
     "output_type": "stream",
     "text": [
      "1124.5433447451132\n"
     ]
    }
   ],
   "source": [
    "std_x_2 = np.std(sum_purchases, ddof=1)\n",
    "print(std_x_2)"
   ]
  },
  {
   "cell_type": "markdown",
   "metadata": {
    "id": "M1ntKTjXLVlH"
   },
   "source": [
    "**Завдання 5**. Ми провели дослідження віку студентів-першокурсників. Виявилось, що\n",
    "- 10 студентів мають вік 16 років\n",
    "- 25 студентів - 17 років\n",
    "- 20 студентів - 18 років\n",
    "- 2 студенти - 20 років\n",
    "\n",
    "Обчислість середнє значення для цієї вибірки будь-яким способом - на чистому Python або з numpy - та виведіть результат на екран."
   ]
  },
  {
   "cell_type": "code",
   "execution_count": 29,
   "metadata": {
    "id": "X4ixtmL2T642"
   },
   "outputs": [],
   "source": [
    "students_age = [16]*10 + [17]*25 + [18]*20 + [20]*2"
   ]
  },
  {
   "cell_type": "code",
   "execution_count": 31,
   "metadata": {
    "id": "X4ixtmL2T642"
   },
   "outputs": [],
   "source": [
    "length_students_age = len(students_age)"
   ]
  },
  {
   "cell_type": "code",
   "execution_count": 33,
   "metadata": {
    "id": "RdIU4M-7T8R4"
   },
   "outputs": [
    {
     "name": "stdout",
     "output_type": "stream",
     "text": [
      "17.280701754385966\n"
     ]
    }
   ],
   "source": [
    "mean_students_age = sum(students_age) / length_students_age\n",
    "print(mean_students_age)"
   ]
  },
  {
   "cell_type": "code",
   "execution_count": 35,
   "metadata": {
    "id": "RdIU4M-7T8R4"
   },
   "outputs": [
    {
     "name": "stdout",
     "output_type": "stream",
     "text": [
      "17.280701754385966\n"
     ]
    }
   ],
   "source": [
    "mean_students_age_2 = np.mean(students_age)\n",
    "print(mean_students_age_2)"
   ]
  },
  {
   "cell_type": "markdown",
   "metadata": {
    "id": "Xx8MFkkVM53z"
   },
   "source": [
    "**Завдання 6**. Крім даних про суму покупок, ми зібрали ще дані про кількість відвідувань кожного з кожного покупця, які знаходяться в змінній `visits`. Обчисліть коефіцієнт кореляції Пірсона для суми покупок і кількості відвідувань кожним з зазначених методів:  \n",
    "\n",
    "  6.1. без використання жодних бібліотек, користуючись тільки Python.  \n",
    "  6.2. використовуючи відповідний метод бібліотеки numpy.  \n",
    "  \n",
    "Виведіть результат на екран. Проаналізуйте результат.\n",
    "\n",
    "Виведіть додатково графік розсіювання викликавши код нижче і зробіть заключення, чи варто щось змінити при підрахунку кореляції, аби коефіцієнт Пірсона показував коректну оцінку лінійної залежності?"
   ]
  },
  {
   "cell_type": "code",
   "execution_count": 37,
   "metadata": {
    "id": "4OIGBT7UOWhO"
   },
   "outputs": [],
   "source": [
    "visits = [ 6,  2, 10,  3,  9,  9,  2,  3,  6,  6, 10,  2,  5, 10,  3,  5,  4,\n",
    "        7,  4,  2]"
   ]
  },
  {
   "cell_type": "markdown",
   "metadata": {
    "id": "YLNF7VbeT97Q"
   },
   "source": [
    "6.1 The first method of finding r (Pearson coefficient)"
   ]
  },
  {
   "cell_type": "code",
   "execution_count": 39,
   "metadata": {
    "id": "YLNF7VbeT97Q"
   },
   "outputs": [
    {
     "name": "stdout",
     "output_type": "stream",
     "text": [
      "-990.1368421052633\n"
     ]
    }
   ],
   "source": [
    "sum_purchases_visits = [(sum_purchases[i] - np.mean(sum_purchases))*(visits[i] - np.mean(visits)) for i in range(len(sum_purchases))]\n",
    "cov_sum_purchases_visits = sum(sum_purchases_visits)/(len(sum_purchases)-1)\n",
    "print(cov_sum_purchases_visits)"
   ]
  },
  {
   "cell_type": "code",
   "execution_count": 41,
   "metadata": {
    "id": "YLNF7VbeT97Q"
   },
   "outputs": [],
   "source": [
    "r_1_sum_purchases_visits = cov_sum_purchases_visits / (np.std(sum_purchases, ddof=1) * np.std(visits, ddof=1))"
   ]
  },
  {
   "cell_type": "code",
   "execution_count": 43,
   "metadata": {
    "id": "YLNF7VbeT97Q"
   },
   "outputs": [
    {
     "name": "stdout",
     "output_type": "stream",
     "text": [
      "-0.30265844687666454\n"
     ]
    }
   ],
   "source": [
    "print(r_1_sum_purchases_visits)"
   ]
  },
  {
   "cell_type": "markdown",
   "metadata": {
    "id": "YLNF7VbeT97Q"
   },
   "source": [
    "6.2 The second method of finding r (Pearson coefficient)"
   ]
  },
  {
   "cell_type": "code",
   "execution_count": 45,
   "metadata": {
    "id": "YLNF7VbeT97Q"
   },
   "outputs": [],
   "source": [
    "r_2_sum_purchases_visits = np.corrcoef(sum_purchases,visits)"
   ]
  },
  {
   "cell_type": "code",
   "execution_count": 47,
   "metadata": {
    "id": "YLNF7VbeT97Q"
   },
   "outputs": [
    {
     "name": "stdout",
     "output_type": "stream",
     "text": [
      "-0.3026584468766646\n"
     ]
    }
   ],
   "source": [
    "print(r_2_sum_purchases_visits[0,1])"
   ]
  },
  {
   "cell_type": "markdown",
   "metadata": {
    "id": "YLNF7VbeT97Q"
   },
   "source": [
    "Conclusion. On the basis of r = -0.3 it is difficult to say anything about the dependence between x and y. Perhaps there will be a stronger dependence if I check these data for the outliers and remove them. I will then calculate a new value for r."
   ]
  },
  {
   "cell_type": "code",
   "execution_count": 49,
   "metadata": {
    "colab": {
     "base_uri": "https://localhost:8080/",
     "height": 472
    },
    "id": "gaeoGA-5Prr1",
    "outputId": "0c910a7f-0e96-449a-881d-1efa453b3c8d"
   },
   "outputs": [
    {
     "data": {
      "image/png": "[encoded data removed]",
      "text/plain": [
       "<Figure size 640x480 with 1 Axes>"
      ]
     },
     "metadata": {},
     "output_type": "display_data"
    }
   ],
   "source": [
    "import matplotlib.pyplot as plt\n",
    "\n",
    "plt.scatter(sum_purchases, visits)\n",
    "plt.title('Scatter Plot of Purchases vs. Visits')\n",
    "plt.xlabel('Sum of Purchases')\n",
    "plt.ylabel('Number of Visits');"
   ]
  },
  {
   "cell_type": "markdown",
   "metadata": {
    "id": "4pEg0KzSQ6KA"
   },
   "source": [
    "**Завдання 7**. В попередньому завданні ми помітили, що викиди нам заважають отримати \"правдиве\" значення кореляції. Давайте вилучимо записи, які відповідають значенням з викидами в сумі покупок і обчисліть коеф. кореляції. Для цього поставте `threshold`, який дорінює середньому значенню + 2 стандартних вдіхилля суми покупок і всі значення, які більше за нього, будемо вважати викидами (є і інші правила для визначення викидів - з ним и познайомимось пізніше).\n",
    "\n",
    "Вилучіть значення з обох масивів і обчисліть коеф. кореляції Пірсона з допомогою `numpy` для кількості візитів і суми покупок без записів-викидів. Виведіть результат на екран, побудуйте діаграму розсіювання і проаналізуйте результат: що можемо сказати про залежність в даних?"
   ]
  },
  {
   "cell_type": "code",
   "execution_count": 140,
   "metadata": {
    "id": "Yj3Yfaf7UBbc"
   },
   "outputs": [
    {
     "name": "stdout",
     "output_type": "stream",
     "text": [
      "[316, 493, 367, 153, 224, 121, 322, 450, 196, 397, 281, 239, 484, 124, 223, 448, 432, 255, 4310, 3524]\n"
     ]
    }
   ],
   "source": [
    "print(sum_purchases)"
   ]
  },
  {
   "cell_type": "code",
   "execution_count": 142,
   "metadata": {
    "id": "Yj3Yfaf7UBbc"
   },
   "outputs": [
    {
     "name": "stdout",
     "output_type": "stream",
     "text": [
      "[6, 2, 10, 3, 9, 9, 2, 3, 6, 6, 10, 2, 5, 10, 3, 5, 4, 7, 4, 2]\n"
     ]
    }
   ],
   "source": [
    "print(visits)"
   ]
  },
  {
   "cell_type": "code",
   "execution_count": 52,
   "metadata": {
    "id": "Yj3Yfaf7UBbc"
   },
   "outputs": [
    {
     "name": "stdout",
     "output_type": "stream",
     "text": [
      "2917.0366894902263\n"
     ]
    }
   ],
   "source": [
    "threshold_sum_purchases = np.mean(sum_purchases) + 2 * np.std(sum_purchases, ddof=1)\n",
    "print(threshold_sum_purchases)"
   ]
  },
  {
   "cell_type": "code",
   "execution_count": 56,
   "metadata": {
    "id": "Yj3Yfaf7UBbc"
   },
   "outputs": [],
   "source": [
    "sum_purchases = np.array(sum_purchases)"
   ]
  },
  {
   "cell_type": "code",
   "execution_count": 64,
   "metadata": {
    "id": "Yj3Yfaf7UBbc"
   },
   "outputs": [],
   "source": [
    "sum_purchases_new = sum_purchases[sum_purchases < threshold_sum_purchases]"
   ]
  },
  {
   "cell_type": "code",
   "execution_count": 66,
   "metadata": {},
   "outputs": [
    {
     "name": "stdout",
     "output_type": "stream",
     "text": [
      "[316 493 367 153 224 121 322 450 196 397 281 239 484 124 223 448 432 255]\n"
     ]
    }
   ],
   "source": [
    "print(sum_purchases_new)"
   ]
  },
  {
   "cell_type": "code",
   "execution_count": 68,
   "metadata": {},
   "outputs": [],
   "source": [
    "visits = np.array(visits)"
   ]
  },
  {
   "cell_type": "code",
   "execution_count": 70,
   "metadata": {},
   "outputs": [],
   "source": [
    "visits_new = visits[sum_purchases < threshold_sum_purchases]"
   ]
  },
  {
   "cell_type": "code",
   "execution_count": 72,
   "metadata": {},
   "outputs": [
    {
     "name": "stdout",
     "output_type": "stream",
     "text": [
      "[ 6  2 10  3  9  9  2  3  6  6 10  2  5 10  3  5  4  7]\n"
     ]
    }
   ],
   "source": [
    "print(visits_new)"
   ]
  },
  {
   "cell_type": "code",
   "execution_count": 82,
   "metadata": {},
   "outputs": [
    {
     "name": "stdout",
     "output_type": "stream",
     "text": [
      "True . Len of the new arrays = 18\n"
     ]
    }
   ],
   "source": [
    "print(len(sum_purchases_new) == len(visits_new), '. Len of the new arrays =', len(sum_purchases_new))"
   ]
  },
  {
   "cell_type": "code",
   "execution_count": 84,
   "metadata": {},
   "outputs": [],
   "source": [
    "r_purchases_visits_final = np.corrcoef(sum_purchases_new,visits_new)"
   ]
  },
  {
   "cell_type": "code",
   "execution_count": 88,
   "metadata": {},
   "outputs": [
    {
     "name": "stdout",
     "output_type": "stream",
     "text": [
      "-0.3685212078127798\n"
     ]
    }
   ],
   "source": [
    "print(r_purchases_visits_final[0,1])"
   ]
  },
  {
   "cell_type": "code",
   "execution_count": 90,
   "metadata": {},
   "outputs": [
    {
     "data": {
      "image/png": "[encoded data removed]",
      "text/plain": [
       "<Figure size 640x480 with 1 Axes>"
      ]
     },
     "metadata": {},
     "output_type": "display_data"
    }
   ],
   "source": [
    "plt.scatter(sum_purchases_new, visits_new)\n",
    "plt.title('Scatter Plot of Purchases vs. Visits without the outliers')\n",
    "plt.xlabel('Sum of Purchases')\n",
    "plt.ylabel('Number of Visits');"
   ]
  },
  {
   "cell_type": "markdown",
   "metadata": {},
   "source": [
    "Conclusion. This time after removing the outliers r = -0.37 and together with the new dependency grapth I could say that some low negative dependency between x and y might be in place. But there might be some other factors that have an impact on the sum of purchases that need to be identified and analysed as well. Only together with other analysed factors does it make sense to use r as part of the analysis."
   ]
  }
 ],
 "metadata": {
  "colab": {
   "provenance": []
  },
  "kernelspec": {
   "display_name": "Python 3 (ipykernel)",
   "language": "python",
   "name": "python3"
  },
  "language_info": {
   "codemirror_mode": {
    "name": "ipython",
    "version": 3
   },
   "file_extension": ".py",
   "mimetype": "text/x-python",
   "name": "python",
   "nbconvert_exporter": "python",
   "pygments_lexer": "ipython3",
   "version": "3.12.4"
  }
 },
 "nbformat": 4,
 "nbformat_minor": 4
}
